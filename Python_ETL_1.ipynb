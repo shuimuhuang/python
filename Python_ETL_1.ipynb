{
 "metadata": {
  "name": "",
  "signature": "sha256:e9cbc41799aba73b5c113a5daee443ef173cd338148add6d6ef12d6383810296"
 },
 "nbformat": 3,
 "nbformat_minor": 0,
 "worksheets": [
  {
   "cells": [
    {
     "cell_type": "heading",
     "level": 1,
     "metadata": {},
     "source": [
      "Python ETL Data Crawling"
     ]
    },
    {
     "cell_type": "heading",
     "level": 2,
     "metadata": {},
     "source": [
      "\u4f7f\u7528requests.get"
     ]
    },
    {
     "cell_type": "code",
     "collapsed": false,
     "input": [
      "import requests\n",
      "res = requests.get('https://www.python.org/')\n",
      "#print res.text\n",
      "print res.status_code \n",
      "print res.headers['content-type']\n"
     ],
     "language": "python",
     "metadata": {},
     "outputs": [
      {
       "output_type": "stream",
       "stream": "stdout",
       "text": [
        "200\n",
        "text/html; charset=utf-8\n"
       ]
      }
     ],
     "prompt_number": 1
    },
    {
     "cell_type": "heading",
     "level": 2,
     "metadata": {},
     "source": [
      "\u4f7f\u7528requests.post"
     ]
    },
    {
     "cell_type": "code",
     "collapsed": false,
     "input": [
      "import requests\n",
      "payload = {\n",
      "'StartStation':'977abb69-413a-4ccf-a109-0272c24fd490',\n",
      "'EndStation':'60831846-f0e4-47f6-9b5b-46323ebdcef7',\n",
      "'SearchDate':'2014/06/18',\n",
      "'SearchTime':'10:30',\n",
      "'SearchWay':'DepartureInMandarin'\n",
      "}\n",
      "res = requests.post('http://www.thsrc.com.tw/tw/TimeTable/SearchResult', data=payload)\n",
      "print res.status_code\n",
      "#print res.text"
     ],
     "language": "python",
     "metadata": {},
     "outputs": [
      {
       "output_type": "stream",
       "stream": "stdout",
       "text": [
        "200\n"
       ]
      }
     ],
     "prompt_number": 2
    },
    {
     "cell_type": "heading",
     "level": 2,
     "metadata": {},
     "source": [
      "\u5c07\u7db2\u9801\u8b80\u9032BeautifulSoup \u4e2d"
     ]
    },
    {
     "cell_type": "code",
     "collapsed": false,
     "input": [
      "from bs4 import BeautifulSoup \n",
      "html_sample = ' \\\n",
      "<html> \\\n",
      " <body> \\\n",
      " <h1 id=\"title\">Hello World</h1> \\\n",
      " <a href=\"#\" class=\"link\">This is link1</a> \\\n",
      " <a href=\"# link2\" class=\"link\">This is link2</a> \\\n",
      " </body> \\\n",
      " </html>'\n",
      "\n",
      "soup = BeautifulSoup(html_sample)\n",
      "print soup.text"
     ],
     "language": "python",
     "metadata": {},
     "outputs": [
      {
       "output_type": "stream",
       "stream": "stdout",
       "text": [
        " Hello World This is link1 This is link2 \n"
       ]
      }
     ],
     "prompt_number": 4
    },
    {
     "cell_type": "heading",
     "level": 2,
     "metadata": {},
     "source": [
      "\u4f7f\u7528Find \u627e\u51fa(\u7b2c\u4e00\u500b)\u542b\u6709a tag \u7684\u5143\u7d20"
     ]
    },
    {
     "cell_type": "code",
     "collapsed": false,
     "input": [
      "soup = BeautifulSoup(html_sample) \n",
      "alink = soup.find('a') \n",
      "print alink['href']"
     ],
     "language": "python",
     "metadata": {},
     "outputs": [
      {
       "output_type": "stream",
       "stream": "stdout",
       "text": [
        "#\n"
       ]
      }
     ],
     "prompt_number": 8
    },
    {
     "cell_type": "heading",
     "level": 2,
     "metadata": {},
     "source": [
      "\u627e\u51fa\u6240\u6709\u542ba tag \u7684HTML \u5143\u7d20"
     ]
    },
    {
     "cell_type": "code",
     "collapsed": false,
     "input": [
      "for alink in soup.findAll('a'): \n",
      "    print alink"
     ],
     "language": "python",
     "metadata": {},
     "outputs": [
      {
       "output_type": "stream",
       "stream": "stdout",
       "text": [
        "<a class=\"link\" href=\"#\">This is link1</a>\n",
        "<a class=\"link\" href=\"# link2\">This is link2</a>\n"
       ]
      }
     ],
     "prompt_number": 10
    },
    {
     "cell_type": "heading",
     "level": 2,
     "metadata": {},
     "source": [
      "\u4f7f\u7528Find \u627e\u51fa\u6240\u6709id\u70batitle\u7684\u5143\u7d20"
     ]
    },
    {
     "cell_type": "code",
     "collapsed": false,
     "input": [
      "alink = soup.find('h1', {'id':'title'}) \n",
      "print alink"
     ],
     "language": "python",
     "metadata": {},
     "outputs": [
      {
       "output_type": "stream",
       "stream": "stdout",
       "text": [
        "<h1 id=\"title\">Hello World</h1>\n"
       ]
      }
     ],
     "prompt_number": 11
    },
    {
     "cell_type": "heading",
     "level": 2,
     "metadata": {},
     "source": [
      "\u53d6\u5f97\u542b\u6709\u7279\u5b9aclass\u7684\u5143\u7d20"
     ]
    },
    {
     "cell_type": "code",
     "collapsed": false,
     "input": [
      "soup = BeautifulSoup(html_sample) \n",
      "for link in soup.findAll('a', {'class': 'link'}): \n",
      "    print link"
     ],
     "language": "python",
     "metadata": {},
     "outputs": [
      {
       "output_type": "stream",
       "stream": "stdout",
       "text": [
        "<a class=\"link\" href=\"#\">This is link1</a>\n",
        "<a class=\"link\" href=\"# link2\">This is link2</a>\n"
       ]
      }
     ],
     "prompt_number": 7
    },
    {
     "cell_type": "heading",
     "level": 2,
     "metadata": {},
     "source": [
      "\u53d6\u5f97\u6240\u6709a tag \u5167\u7684\u9023\u7d50"
     ]
    },
    {
     "cell_type": "code",
     "collapsed": false,
     "input": [
      "alinks = soup.findAll('a', {'href': True}) \n",
      "#for link in alinks: \n",
      "#    print link['href']\n",
      "    \n",
      "    \n",
      "a = soup.select(\"a\")\n",
      "#print a[1].text\n",
      "for i in a:\n",
      "    print i.text"
     ],
     "language": "python",
     "metadata": {},
     "outputs": [
      {
       "output_type": "stream",
       "stream": "stdout",
       "text": [
        "This is link1\n",
        "This is link2\n"
       ]
      }
     ],
     "prompt_number": 24
    },
    {
     "cell_type": "heading",
     "level": 2,
     "metadata": {},
     "source": [
      "\u8a2d\u5b9aPOST \u7684Form Data"
     ]
    },
    {
     "cell_type": "code",
     "collapsed": false,
     "input": [
      "# -*- coding: utf-8 -*- \n",
      "import requests\n",
      "\n",
      "payload = { 'method':'search', 'searchMethod':'true', 'searchTarget':'ATM',\n",
      " 'orgName':'', 'orgId':'', 'hid_1':'1',\n",
      " 'tenderName':'', 'tenderId':'', 'tenderStatus':'4,5,21,29',\n",
      " 'tenderWay':'', 'awardAnnounceStartDate':'103/04/29',\n",
      " 'awardAnnounceEndDate':'103/04/29', 'radProctrgCate':'3', \n",
      " 'proctrgCate':'3', 'tenderRange':'', 'minBudget':'',\n",
      " 'maxBudget':'', 'item':'','hid_2':'1',\n",
      " 'gottenVendorName':'', 'gottenVendorId':'', 'hid_3':'1',\n",
      " 'submitVendorName':'', 'submitVendorId':'', 'location':'',\n",
      " 'priorityCate':'', 'isReConstruct':'', 'btnQuery':'\u67e5\u8a62' }"
     ],
     "language": "python",
     "metadata": {},
     "outputs": [],
     "prompt_number": 4
    },
    {
     "cell_type": "heading",
     "level": 2,
     "metadata": {},
     "source": [
      "\u9001\u51faPost \u53d6\u5f97\u8cc7\u6599"
     ]
    },
    {
     "cell_type": "code",
     "collapsed": false,
     "input": [
      "user_post = requests.post(\"http://web.pcc.gov.tw/tps/pss/tender.do?searchMode=common&searchType=advance\", data=payload) \n",
      "response_text = user_post.text.encode('utf8') \n",
      "print user_post\n"
     ],
     "language": "python",
     "metadata": {},
     "outputs": [
      {
       "output_type": "stream",
       "stream": "stdout",
       "text": [
        "<Response [200]>\n"
       ]
      }
     ],
     "prompt_number": 6
    },
    {
     "cell_type": "heading",
     "level": 2,
     "metadata": {},
     "source": [
      "\u5982\u4f55\u5ef6\u7e8cSession"
     ]
    },
    {
     "cell_type": "code",
     "collapsed": false,
     "input": [
      "rs = requests.session() \n",
      "rs_post = rs.post(\"http://web.pcc.gov.tw/tps/pss/tender.do?searchMode=common&searchType=advance\", data=payload) \n",
      "rs_get = rs.get(\"http://web.pcc.gov.tw/tps/pss/tender.do?searchMode=common&searchType=advance&searchTarget=ATM&method=search&isSpdt=&pageIndex=2\") \n",
      "response = rs_get.text.encode('utf8')\n",
      "#print response"
     ],
     "language": "python",
     "metadata": {},
     "outputs": [],
     "prompt_number": 26
    },
    {
     "cell_type": "heading",
     "level": 2,
     "metadata": {},
     "source": [
      "\u53d6\u5f97\u8cc7\u6599\u7b46\u6578"
     ]
    },
    {
     "cell_type": "code",
     "collapsed": false,
     "input": [
      "from bs4 import BeautifulSoup\n",
      "\n",
      "user_post = rs.post(\"http://web.pcc.gov.tw/tps/pss/tender.do?searchMode=common&searchType=advance\", data=payload)\n",
      "response_text = user_post.text.encode('utf8') \n",
      "soup = BeautifulSoup(response_text) \n",
      "rec_number_element = soup.select('.T11b')[0]\n",
      "#print int(rec_number_element.text) \n",
      "rec_number = int(rec_number_element.text) \n",
      "print rec_number"
     ],
     "language": "python",
     "metadata": {},
     "outputs": [
      {
       "output_type": "stream",
       "stream": "stdout",
       "text": [
        "265\n"
       ]
      }
     ],
     "prompt_number": 28
    },
    {
     "cell_type": "heading",
     "level": 2,
     "metadata": {},
     "source": [
      "\u5c07\u8cc7\u6599\u7b46\u6578\u8f49\u63db\u6210\u9801\u6578"
     ]
    },
    {
     "cell_type": "code",
     "collapsed": false,
     "input": [
      "from math import ceil \n",
      "#int(ceil(float(rec_number) / 100))\n",
      "page_number = int(ceil(float(rec_number) / 100)) \n",
      "print page_number"
     ],
     "language": "python",
     "metadata": {},
     "outputs": [
      {
       "output_type": "stream",
       "stream": "stdout",
       "text": [
        "3\n"
       ]
      }
     ],
     "prompt_number": 13
    },
    {
     "cell_type": "heading",
     "level": 2,
     "metadata": {},
     "source": [
      "\u5b57\u4e32\u683c\u5f0f\u5316 - \u4f7f\u7528format"
     ]
    },
    {
     "cell_type": "code",
     "collapsed": false,
     "input": [
      "page_format = \"http://web.pcc.gov.tw/tps/pss/tender.do?searchMode=common&searchType=advance&searchTarget=ATM&method=search&isSpdt=&pageIndex={0}\" \n",
      "for page in range(1, 10 + 1): \n",
      "    print page_format.format(page)"
     ],
     "language": "python",
     "metadata": {},
     "outputs": [
      {
       "output_type": "stream",
       "stream": "stdout",
       "text": [
        "http://web.pcc.gov.tw/tps/pss/tender.do?searchMode=common&searchType=advance&searchTarget=ATM&method=search&isSpdt=&pageIndex=1\n",
        "http://web.pcc.gov.tw/tps/pss/tender.do?searchMode=common&searchType=advance&searchTarget=ATM&method=search&isSpdt=&pageIndex=2\n",
        "http://web.pcc.gov.tw/tps/pss/tender.do?searchMode=common&searchType=advance&searchTarget=ATM&method=search&isSpdt=&pageIndex=3\n",
        "http://web.pcc.gov.tw/tps/pss/tender.do?searchMode=common&searchType=advance&searchTarget=ATM&method=search&isSpdt=&pageIndex=4\n",
        "http://web.pcc.gov.tw/tps/pss/tender.do?searchMode=common&searchType=advance&searchTarget=ATM&method=search&isSpdt=&pageIndex=5\n",
        "http://web.pcc.gov.tw/tps/pss/tender.do?searchMode=common&searchType=advance&searchTarget=ATM&method=search&isSpdt=&pageIndex=6\n",
        "http://web.pcc.gov.tw/tps/pss/tender.do?searchMode=common&searchType=advance&searchTarget=ATM&method=search&isSpdt=&pageIndex=7\n",
        "http://web.pcc.gov.tw/tps/pss/tender.do?searchMode=common&searchType=advance&searchTarget=ATM&method=search&isSpdt=&pageIndex=8\n",
        "http://web.pcc.gov.tw/tps/pss/tender.do?searchMode=common&searchType=advance&searchTarget=ATM&method=search&isSpdt=&pageIndex=9\n",
        "http://web.pcc.gov.tw/tps/pss/tender.do?searchMode=common&searchType=advance&searchTarget=ATM&method=search&isSpdt=&pageIndex=10\n"
       ]
      }
     ],
     "prompt_number": 10
    },
    {
     "cell_type": "heading",
     "level": 2,
     "metadata": {},
     "source": [
      "\u4f7f\u7528%"
     ]
    },
    {
     "cell_type": "code",
     "collapsed": false,
     "input": [
      "page_format = \"http://web.pcc.gov.tw/tps/pss/tender.do?searchMode=common&searchType=advance&searchTarget=ATM&method=search&isSpdt=&pageIndex=%d\" \n",
      "for page in range(1, 5 + 1): \n",
      "    print page_format%(page)"
     ],
     "language": "python",
     "metadata": {},
     "outputs": [
      {
       "output_type": "stream",
       "stream": "stdout",
       "text": [
        "http://web.pcc.gov.tw/tps/pss/tender.do?searchMode=common&searchType=advance&searchTarget=ATM&method=search&isSpdt=&pageIndex=1\n",
        "http://web.pcc.gov.tw/tps/pss/tender.do?searchMode=common&searchType=advance&searchTarget=ATM&method=search&isSpdt=&pageIndex=2\n",
        "http://web.pcc.gov.tw/tps/pss/tender.do?searchMode=common&searchType=advance&searchTarget=ATM&method=search&isSpdt=&pageIndex=3\n",
        "http://web.pcc.gov.tw/tps/pss/tender.do?searchMode=common&searchType=advance&searchTarget=ATM&method=search&isSpdt=&pageIndex=4\n",
        "http://web.pcc.gov.tw/tps/pss/tender.do?searchMode=common&searchType=advance&searchTarget=ATM&method=search&isSpdt=&pageIndex=5\n"
       ]
      }
     ],
     "prompt_number": 20
    },
    {
     "cell_type": "heading",
     "level": 2,
     "metadata": {},
     "source": [
      "\u53d6\u5f97\u6bcf\u9801\u6a19\u6848\u6e05\u55ae\u7684\u5167\u5bb9"
     ]
    },
    {
     "cell_type": "code",
     "collapsed": false,
     "input": [
      "page_format = \"http://web.pcc.gov.tw/tps/pss/tender.do?searchMode=common&searchType=advance&searchTarget=ATM&method=search&isSpdt=&pageIndex=%d\" \n",
      "for page in range(1, page_number + 1): \n",
      "    bid_list = rs.get(page_format%(page)) \n",
      "    bid_response = bid_list.text.encode('utf8')\n",
      "    #print bid_response"
     ],
     "language": "python",
     "metadata": {},
     "outputs": [],
     "prompt_number": 29
    },
    {
     "cell_type": "heading",
     "level": 2,
     "metadata": {},
     "source": [
      "\u5148\u62ff\u4e00\u9801\u505a\u8a66\u9a57"
     ]
    },
    {
     "cell_type": "code",
     "collapsed": false,
     "input": [
      "page_format = \"http://web.pcc.gov.tw/tps/pss/tender.do?searchMode=common&searchType=advance&searchTarget=ATM&method=search&isSpdt=&pageIndex=%d\" \n",
      "page = 1 \n",
      "bid_list = rs.get(page_format%(page)) \n",
      "bid_response = bid_list.text.encode('utf8') \n",
      "bid_soup = BeautifulSoup(bid_response) \n",
      "#print bid_response\n",
      "bid_table = bid_soup.select('#print_area')[0]\n",
      "#print bid_table"
     ],
     "language": "python",
     "metadata": {},
     "outputs": [],
     "prompt_number": 32
    },
    {
     "cell_type": "heading",
     "level": 2,
     "metadata": {},
     "source": [
      "\u53bb\u6389\u6a19\u982d"
     ]
    },
    {
     "cell_type": "code",
     "collapsed": false,
     "input": [
      "bid_rows = bid_table.select('tr')[1:] \n",
      "#print bid_rows"
     ],
     "language": "python",
     "metadata": {},
     "outputs": [],
     "prompt_number": 33
    },
    {
     "cell_type": "heading",
     "level": 2,
     "metadata": {},
     "source": [
      "\u53bb\u6389\u6a19\u982d\u8ddf\u9801\u6b21"
     ]
    },
    {
     "cell_type": "code",
     "collapsed": false,
     "input": [
      "bid_rows = bid_table.select('tr')[1:-1] \n",
      "#print bid_rows"
     ],
     "language": "python",
     "metadata": {},
     "outputs": [],
     "prompt_number": 34
    },
    {
     "cell_type": "heading",
     "level": 2,
     "metadata": {},
     "source": [
      "\u7d22\u5f15\u7bc4\u4f8b"
     ]
    },
    {
     "cell_type": "code",
     "collapsed": false,
     "input": [
      "ary = [1,2,3,4,5,6] \n",
      "print ary[1:-1] \n",
      "#[2,3,4,5]"
     ],
     "language": "python",
     "metadata": {},
     "outputs": [
      {
       "output_type": "stream",
       "stream": "stdout",
       "text": [
        "[2, 3, 4, 5]\n"
       ]
      }
     ],
     "prompt_number": 35
    },
    {
     "cell_type": "heading",
     "level": 2,
     "metadata": {},
     "source": [
      "\u6293\u51fa\u6bcf\u4e00\u5217\u6240\u6709\u7684\u9023\u7d50"
     ]
    },
    {
     "cell_type": "code",
     "collapsed": false,
     "input": [
      "bid_rows = bid_table.select('tr')[1:-1] \n",
      "for bid_row in bid_rows: \n",
      "    links = [tag['href']for tag in bid_row.select('a')][0] \n",
      "\n",
      "    #print links"
     ],
     "language": "python",
     "metadata": {},
     "outputs": [],
     "prompt_number": 36
    },
    {
     "cell_type": "heading",
     "level": 2,
     "metadata": {},
     "source": [
      "\u7528[0]\u53d6\u7b2c\u4e00\u500b\u9023\u7d50"
     ]
    },
    {
     "cell_type": "code",
     "collapsed": false,
     "input": [
      "for bid_row in bid_rows: \n",
      "\n",
      "    links = [tag['href'] \n",
      "      for tag in bid_row.select('a')][0]\n",
      " \n",
      "    #print links\n",
      "\n"
     ],
     "language": "python",
     "metadata": {},
     "outputs": [],
     "prompt_number": 37
    },
    {
     "cell_type": "heading",
     "level": 2,
     "metadata": {},
     "source": [
      "\u53d6\u5f97\u5be6\u969b\u9023\u7d50"
     ]
    },
    {
     "cell_type": "code",
     "collapsed": false,
     "input": [
      "for bid_row in bid_rows: \n",
      "    link = [tag['href'] \n",
      "      for tag in bid_row.findAll('a',{'href': True})][0] \n",
      "\n",
      "    link_href = \"http://web.pcc.gov.tw/tps\" + link[2:] \n",
      "\n",
      "    #print link_href\n"
     ],
     "language": "python",
     "metadata": {},
     "outputs": [],
     "prompt_number": 40
    },
    {
     "cell_type": "heading",
     "level": 2,
     "metadata": {},
     "source": [
      "\u4f7f\u7528urljoin"
     ]
    },
    {
     "cell_type": "code",
     "collapsed": false,
     "input": [
      "import urlparse\n",
      "for bid_row in bid_rows: \n",
      "    link = [tag['href'] \n",
      "      for tag in bid_row.findAll('a',{'href': True})][0] \n",
      "\n",
      "    link_href = urlparse.urljoin(\"http://web.pcc.gov.tw/tps/pss/tender.do?searchMode=common&searchType=advance\", link)\n",
      "\n",
      "    #print link_href\n"
     ],
     "language": "python",
     "metadata": {},
     "outputs": [],
     "prompt_number": 42
    },
    {
     "cell_type": "heading",
     "level": 2,
     "metadata": {},
     "source": [
      "\u8907\u7fd2\u4e00\u4e0b\u5982\u4f55\u4f7f\u7528Python\u505a\u6a94\u6848\u5beb\u5165"
     ]
    },
    {
     "cell_type": "code",
     "collapsed": false,
     "input": [
      "f = open(\"test.txt\", 'w') \n",
      "f.write(\"Hello World\\n\") \n",
      "f.close() "
     ],
     "language": "python",
     "metadata": {},
     "outputs": [],
     "prompt_number": 29
    },
    {
     "cell_type": "heading",
     "level": 2,
     "metadata": {},
     "source": [
      "\u5c07\u6bcf\u9801\u6a19\u6848\u6e05\u55ae\u7684\u9023\u7d50\u5b58\u5165\u6a94\u6848"
     ]
    },
    {
     "cell_type": "code",
     "collapsed": false,
     "input": [
      "bid_file = open(\"bid_list.txt\", 'w') \n",
      "page_format = \"http://web.pcc.gov.tw/tps/pss/tender.do?searchMode=common&searchType=advance&searchTarget=ATM&method=search&isSpdt=&pageIndex=%d\" \n",
      "for page in range(1, page_number + 1): \n",
      "    bid_list = rs.get(page_format%(page)) \n",
      "    bid_response = bid_list.text.encode('utf8') \n",
      "    bid_soup = BeautifulSoup(bid_response) \n",
      "    bid_table = bid_soup.select(\"#print_area\") [0]\n",
      "    bid_rows = bid_table.select('tr')[1:-1] \n",
      "    for bid_row in bid_rows:         \n",
      "        link = [tag['href'] for tag in bid_row.select('a')][0] \n",
      "        link_href = urlparse.urljoin(\"http://web.pcc.gov.tw/tps/pss/tender.do?searchMode=common&searchType=advance\", link) \n",
      "        bid_file.write(link_href + \"\\n\") \n",
      "bid_file.close() "
     ],
     "language": "python",
     "metadata": {},
     "outputs": [],
     "prompt_number": 43
    },
    {
     "cell_type": "heading",
     "level": 2,
     "metadata": {},
     "source": [
      "0. \u5f15\u5165\u8a72\u7528\u7684package"
     ]
    },
    {
     "cell_type": "code",
     "collapsed": false,
     "input": [
      "# -*- coding: utf-8 -*- \n",
      "import requests\n",
      "import urlparse \n",
      "from bs4 import BeautifulSoup \n",
      "from math import ceil\n"
     ],
     "language": "python",
     "metadata": {},
     "outputs": [],
     "prompt_number": 32
    },
    {
     "cell_type": "heading",
     "level": 2,
     "metadata": {},
     "source": [
      "1. \u8a2d\u5b9a\u67e5\u8a62\u689d\u4ef6"
     ]
    },
    {
     "cell_type": "code",
     "collapsed": false,
     "input": [
      "payload = { 'method':'search', 'searchMethod':'true', 'searchTarget':'ATM',\n",
      " 'orgName':'', 'orgId':'', 'hid_1':'1',\n",
      " 'tenderName':'', 'tenderId':'', 'tenderStatus':'4,5,21,29',\n",
      " 'tenderWay':'', 'awardAnnounceStartDate':'103/04/29',\n",
      " 'awardAnnounceEndDate':'103/04/29', 'radProctrgCate':'3', \n",
      " 'proctrgCate':'3', 'tenderRange':'', 'minBudget':'',\n",
      " 'maxBudget':'', 'item':'','hid_2':'1',\n",
      " 'gottenVendorName':'', 'gottenVendorId':'', 'hid_3':'1',\n",
      " 'submitVendorName':'', 'submitVendorId':'', 'location':'',\n",
      " 'priorityCate':'', 'isReConstruct':'', 'btnQuery':'\u67e5\u8a62' }\n",
      "\n",
      "rs = requests.session() \n",
      "user_post = rs.post(\"http://web.pcc.gov.tw/tps/pss/tender.do?searchMode=common&searchType=advance\", data=payload) \n",
      "response_text = user_post.text.encode('utf8')\n"
     ],
     "language": "python",
     "metadata": {},
     "outputs": [],
     "prompt_number": 36
    },
    {
     "cell_type": "heading",
     "level": 2,
     "metadata": {},
     "source": [
      "2. \u8a08\u7b97\u6293\u53d6\u9801\u6578"
     ]
    },
    {
     "cell_type": "code",
     "collapsed": false,
     "input": [
      "soup = BeautifulSoup(response_text) \n",
      "rec_number_element = soup.select(\".T11b\" )[0] \n",
      "rec_number = int(rec_number_element.text)\n",
      "page_number = int(ceil(float(rec_number) / 100))"
     ],
     "language": "python",
     "metadata": {},
     "outputs": [],
     "prompt_number": 37
    },
    {
     "cell_type": "heading",
     "level": 2,
     "metadata": {},
     "source": [
      "3. \u4f9d\u6bcf\u9801\u6293\u53d6\u6240\u6709\u6a19\u6848\u9023\u7d50 & \u000b",
      "\n",
      "\n",
      "\n",
      " 4. \u5b58\u5165\u6bcf\u9801\u6a19\u6848\u9023\u7d50"
     ]
    },
    {
     "cell_type": "code",
     "collapsed": false,
     "input": [
      "bid_file = open(\"bid_list.txt\", 'w') \n",
      "page_format = \"http://web.pcc.gov.tw/tps/pss/tender.do?searchMode=common&searchType=advance&searchTarget=ATM&method=search&isSpdt=&pageIndex=%d\" \n",
      "for page in range(1, page_number + 1): \n",
      "    bid_list = rs.get(page_format%(page)) \n",
      "    bid_response = bid_list.text.encode('utf8') \n",
      "    bid_soup = BeautifulSoup(bid_response)\n",
      "    bid_table = bid_soup.select(\"#print_area\")[0] \n",
      "    bid_rows = bid_table.select('tr')[1:-1] \n",
      "    for bid_row in bid_rows: \n",
      "        link = [tag['href'] for tag in bid_row.select('a')][0] \n",
      "        link_href = urlparse.urljoin(\"http://web.pcc.gov.tw/tps/pss/tender.do?searchMode=common&searchType=advance\", link) \n",
      "        bid_file.write(link_href + \"\\n\") \n",
      "bid_file.close() "
     ],
     "language": "python",
     "metadata": {},
     "outputs": [],
     "prompt_number": 44
    },
    {
     "cell_type": "heading",
     "level": 2,
     "metadata": {},
     "source": [
      "\u8a08\u7b97\u7e3d\u5171\u5b58\u4e86\u591a\u5c11\u500b\u9023\u7d50"
     ]
    },
    {
     "cell_type": "code",
     "collapsed": false,
     "input": [
      "line_num = 0 \n",
      "f = open(\"bid_list.txt\", \"r\") \n",
      "for line in f.readlines(): \n",
      "    line_num = line_num + 1 \n",
      "print line_num \n",
      "f.close() "
     ],
     "language": "python",
     "metadata": {},
     "outputs": [
      {
       "output_type": "stream",
       "stream": "stdout",
       "text": [
        "265\n"
       ]
      }
     ],
     "prompt_number": 46
    },
    {
     "cell_type": "heading",
     "level": 2,
     "metadata": {},
     "source": [
      "\u5224\u65b7\u6293\u4e0b\u4f86\u7684\u8cc7\u6599\u7b46\u6578\u000b",
      "\n",
      "\n",
      "\n",
      " \u662f\u5426\u8207\u7db2\u9801\u4e0a\u5448\u73fe\u7684\u76f8\u540c"
     ]
    },
    {
     "cell_type": "code",
     "collapsed": false,
     "input": [
      "soup = BeautifulSoup(response_text) \n",
      "rec_number_element = soup.select(\".T11b\" )[0] \n",
      "rec_number = int(rec_number_element.text)\n",
      "\n",
      "line_num = 0 \n",
      "f = open(\"bid_list.txt\", \"r\") \n",
      "for line in f.readlines(): \n",
      "    line_num = line_num + 1 \n",
      "print line_num \n",
      "f.close() \n",
      "\n",
      "#\u4f7f\u7528if \u5224\u65b7\n",
      "if rec_number == line_num: \n",
      "    print \"record number on web page is equal to number of lines in file\" "
     ],
     "language": "python",
     "metadata": {},
     "outputs": [
      {
       "output_type": "stream",
       "stream": "stdout",
       "text": [
        "265\n",
        "record number on web page is equal to number of lines in file\n"
       ]
      }
     ],
     "prompt_number": 47
    },
    {
     "cell_type": "heading",
     "level": 2,
     "metadata": {},
     "source": [
      "\u4f7f\u7528requests.get \u6293\u53d6\u6a19\u6848\u7d30\u7bc0"
     ]
    },
    {
     "cell_type": "code",
     "collapsed": false,
     "input": [
      "request_get = requests.get(\"http://web.pcc.gov.tw/tps/main/pms/tps/atm/atmAwardAction.do?newEdit=false&searchMode=common&method=inquiryForPublic&pkAtmMain=51239291&tenderCaseNo=0607L1030328\") \n",
      "response = request_get.text.encode('utf8') \n",
      "#print response\n"
     ],
     "language": "python",
     "metadata": {},
     "outputs": [],
     "prompt_number": 49
    },
    {
     "cell_type": "heading",
     "level": 2,
     "metadata": {},
     "source": [
      "\u53d6\u5f97id\u70baprintArea \u7684\u5340\u584a"
     ]
    },
    {
     "cell_type": "code",
     "collapsed": false,
     "input": [
      "request_get = requests.get(\"http://web.pcc.gov.tw/tps/main/pms/tps/atm/atmAwardAction.do?newEdit=false&searchMode=common&method=inquiryForPublic&pkAtmMain=51239291&tenderCaseNo=0607L1030328\") \n",
      "response = request_get.text.encode('utf8') \n",
      "soup = BeautifulSoup(response)\n",
      "printarea = soup.select('#printArea') [0]\n",
      "#print printarea\n"
     ],
     "language": "python",
     "metadata": {},
     "outputs": [],
     "prompt_number": 50
    },
    {
     "cell_type": "heading",
     "level": 2,
     "metadata": {},
     "source": [
      "\u5c07\u6a19\u6848\u8cc7\u6599\u5beb\u9032\u6a94\u6848\u4e2d"
     ]
    },
    {
     "cell_type": "code",
     "collapsed": false,
     "input": [
      "bid_detail = open(\"bid_detail.txt\", 'w') \n",
      "request_get = requests.get(\"http://web.pcc.gov.tw/tps/main/pms/tps/atm/atmAwardAction.do?newEdit=false&searchMode=common&method=inquiryForPublic&pkAtmMain=51239291&tenderCaseNo=0607L1030328\") \n",
      "response = request_get.text.encode('utf8') \n",
      "soup = BeautifulSoup(response)\n",
      "printarea = soup.select('#printArea') [0]\n",
      "bid_detail.write(printarea) \n",
      "bid_detail.close()\n"
     ],
     "language": "python",
     "metadata": {},
     "outputs": [
      {
       "ename": "TypeError",
       "evalue": "expected a character buffer object",
       "output_type": "pyerr",
       "traceback": [
        "\u001b[1;31m---------------------------------------------------------------------------\u001b[0m\n\u001b[1;31mTypeError\u001b[0m                                 Traceback (most recent call last)",
        "\u001b[1;32m<ipython-input-51-5926ae9a0713>\u001b[0m in \u001b[0;36m<module>\u001b[1;34m()\u001b[0m\n\u001b[0;32m      4\u001b[0m \u001b[0msoup\u001b[0m \u001b[1;33m=\u001b[0m \u001b[0mBeautifulSoup\u001b[0m\u001b[1;33m(\u001b[0m\u001b[0mresponse\u001b[0m\u001b[1;33m)\u001b[0m\u001b[1;33m\u001b[0m\u001b[0m\n\u001b[0;32m      5\u001b[0m \u001b[0mprintarea\u001b[0m \u001b[1;33m=\u001b[0m \u001b[0msoup\u001b[0m\u001b[1;33m.\u001b[0m\u001b[0mselect\u001b[0m\u001b[1;33m(\u001b[0m\u001b[1;34m'#printArea'\u001b[0m\u001b[1;33m)\u001b[0m \u001b[1;33m[\u001b[0m\u001b[1;36m0\u001b[0m\u001b[1;33m]\u001b[0m\u001b[1;33m\u001b[0m\u001b[0m\n\u001b[1;32m----> 6\u001b[1;33m \u001b[0mbid_detail\u001b[0m\u001b[1;33m.\u001b[0m\u001b[0mwrite\u001b[0m\u001b[1;33m(\u001b[0m\u001b[0mprintarea\u001b[0m\u001b[1;33m)\u001b[0m\u001b[1;33m\u001b[0m\u001b[0m\n\u001b[0m\u001b[0;32m      7\u001b[0m \u001b[0mbid_detail\u001b[0m\u001b[1;33m.\u001b[0m\u001b[0mclose\u001b[0m\u001b[1;33m(\u001b[0m\u001b[1;33m)\u001b[0m\u001b[1;33m\u001b[0m\u001b[0m\n",
        "\u001b[1;31mTypeError\u001b[0m: expected a character buffer object"
       ]
      }
     ],
     "prompt_number": 51
    },
    {
     "cell_type": "heading",
     "level": 2,
     "metadata": {},
     "source": [
      "\u4f7f\u7528prettify \u5c07soup \u6293\u5230\u7684tag \u000b",
      "\n",
      "\n",
      "\n",
      " \u8f49\u63db\u6210str"
     ]
    },
    {
     "cell_type": "code",
     "collapsed": false,
     "input": [
      "bid_detail = open(\"bid_detail.txt\", 'w') \n",
      "request_get = requests.get(\"http://web.pcc.gov.tw/tps/main/pms/tps/atm/atmAwardAction.do?newEdit=false&searchMode=common&method=inquiryForPublic&pkAtmMain=51239291&tenderCaseNo=0607L1030328\") \n",
      "response = request_get.text.encode('utf8') \n",
      "soup = BeautifulSoup(response)\n",
      "printarea = soup.select('#printArea') [0] \n",
      "bid_detail.write(printarea.prettify(\"utf-8\")) \n",
      "bid_detail.close()\n"
     ],
     "language": "python",
     "metadata": {},
     "outputs": [],
     "prompt_number": 52
    },
    {
     "cell_type": "heading",
     "level": 2,
     "metadata": {},
     "source": [
      "\u600e\u9ebc\u627e\u51fa\u6848\u865f\u662f\u5426\u6703\u91cd\u8907?"
     ]
    },
    {
     "cell_type": "code",
     "collapsed": false,
     "input": [
      "case_dic = {} \n",
      "f = open(\"bid_list.txt\", \"r\") \n",
      "for line in f.readlines(): \n",
      "    rec = line.strip() \n",
      "    caseno = rec.split('tenderCaseNo=')[1] \n",
      "    if caseno not in case_dic: \n",
      "        case_dic[caseno] = 1 \n",
      "    else: \n",
      "        print caseno \n",
      "f.close()"
     ],
     "language": "python",
     "metadata": {},
     "outputs": [
      {
       "output_type": "stream",
       "stream": "stdout",
       "text": [
        "1030401\n",
        "10302\n",
        "10302\n",
        "103003\n",
        "1030415\n"
       ]
      }
     ],
     "prompt_number": 67
    },
    {
     "cell_type": "heading",
     "level": 2,
     "metadata": {},
     "source": [
      "\u5982\u4f55\u5f9eurl \u53d6\u5f97\u9019\u5169\u500b\u503c?"
     ]
    },
    {
     "cell_type": "code",
     "collapsed": false,
     "input": [
      "link = \"http://web.pcc.gov.tw/tps/main/pms/tps/atm/atmAwardAction.do?newEdit=false&searchMode=common&method=inquiryForPublic&pkAtmMain=51239291&tenderCaseNo=0607L1030328\" \n"
     ],
     "language": "python",
     "metadata": {},
     "outputs": [],
     "prompt_number": 53
    },
    {
     "cell_type": "heading",
     "level": 2,
     "metadata": {},
     "source": [
      "\u4f7f\u7528split"
     ]
    },
    {
     "cell_type": "code",
     "collapsed": false,
     "input": [
      "rear_substring = link.split(\"pkAtmMain=\")[1] \n",
      "param = rear_substring.split(\"&tenderCaseNo=\") \n",
      "pkAtmMain= param[0] \n",
      "caseno= param[1] \n",
      "print pkAtmMain,caseno "
     ],
     "language": "python",
     "metadata": {},
     "outputs": [
      {
       "output_type": "stream",
       "stream": "stdout",
       "text": [
        "51239291 0607L1030328\n"
       ]
      }
     ],
     "prompt_number": 54
    },
    {
     "cell_type": "heading",
     "level": 2,
     "metadata": {},
     "source": [
      "re.match \u7bc4\u4f8b"
     ]
    },
    {
     "cell_type": "code",
     "collapsed": false,
     "input": [
      "import re \n",
      "m = re.match(r\"(?P<FirstName>\\w+) (?P<LastName>\\w+)\", \"David Chiu\") \n",
      "print m.group(\"FirstName\"), m.group(\"LastName\") "
     ],
     "language": "python",
     "metadata": {},
     "outputs": [
      {
       "output_type": "stream",
       "stream": "stdout",
       "text": [
        "David Chiu\n"
       ]
      }
     ],
     "prompt_number": 55
    },
    {
     "cell_type": "heading",
     "level": 2,
     "metadata": {},
     "source": [
      "\u4f7f\u7528re.match"
     ]
    },
    {
     "cell_type": "code",
     "collapsed": false,
     "input": [
      "import re \n",
      "link = \"http://web.pcc.gov.tw/tps/main/pms/tps/atm/atmAwardAction.do?newEdit=false&searchMode=common&method=inquiryForPublic&pkAtmMain=51239291&tenderCaseNo=0607L1030328\" \n",
      "m = re.match(r\"([^ ]+)pkAtmMain=(?P<pkAtmMain>.+)&tenderCaseNo=(?P<tenderCaseNo>.+)\", link) \n",
      "print m.group('pkAtmMain'), m.group('tenderCaseNo')\n"
     ],
     "language": "python",
     "metadata": {},
     "outputs": [
      {
       "output_type": "stream",
       "stream": "stdout",
       "text": [
        "51239291 0607L1030328\n"
       ]
      }
     ],
     "prompt_number": 56
    },
    {
     "cell_type": "heading",
     "level": 2,
     "metadata": {},
     "source": [
      "\u8b80\u53d6bid_list.txt\u000b",
      "\n",
      "\n",
      "\n",
      " \u4f9d\u5e8f\u6293\u51fa\u6a19\u6848\u5167\u5bb9"
     ]
    },
    {
     "cell_type": "code",
     "collapsed": false,
     "input": [
      "# -*- coding: utf-8 -*- \n",
      "from bs4 import BeautifulSoup \n",
      "import re, requests \n",
      "\n",
      "bid_list = open('bid_list.txt', 'r') \n",
      "for line in bid_list.readlines(): \n",
      "    pagelink = line.strip() \n",
      "    m = re.match(r\"([^ ]+)pkAtmMain=(?P<pkAtmMain>.+)&tenderCaseNo=(?P<tenderCaseNo>.+)\", pagelink) \n",
      "    filename = \"%s_%s\"%(m.group('pkAtmMain'), m.group('tenderCaseNo')) \n",
      "    request_get = requests.get(pagelink) \n",
      "    response = request_get.text.encode('utf8') \n",
      "    soup = BeautifulSoup(response) \n",
      "    printarea = soup.select('#printArea')[0] \n",
      "    bid_detail = open(\"gov/%s.txt\"%(filename), 'w') \n",
      "    bid_detail.write(printarea .prettify(\"utf-8\")) \n",
      "    bid_detail.close() \n",
      "bid_list.close()\n"
     ],
     "language": "python",
     "metadata": {},
     "outputs": [],
     "prompt_number": 58
    },
    {
     "cell_type": "heading",
     "level": 2,
     "metadata": {},
     "source": [
      "\u6293\u53d6\u6a19\u6848\u7d30\u7bc0\u5b8c\u6210\u7248"
     ]
    },
    {
     "cell_type": "code",
     "collapsed": false,
     "input": [
      "# -*- coding: utf-8 -*- \n",
      "from bs4 import BeautifulSoup \n",
      "import re, requests, time \n",
      "import os\n",
      "if not os.path.exists('gov'):\n",
      "    os.mkdir('gov')\n",
      "    \n",
      "bid_list = open('bid_list.txt', 'r') \n",
      "for line in bid_list.readlines(): \n",
      "    pagelink = line.strip() \n",
      "    m = re.match(r\"([^ ]+)pkAtmMain=(?P<pkAtmMain>.+)&tenderCaseNo=(?P<tenderCaseNo>.+)\", pagelink) \n",
      "    filename = \"%s_%s\"%(m.group('pkAtmMain'), m.group('tenderCaseNo')) \n",
      "    request_get = requests.get(pagelink) \n",
      "    response = request_get.text.encode('utf8') \n",
      "    soup = BeautifulSoup(response) \n",
      "    printarea = soup.select('#printArea')[0] \n",
      "    bid_detail = open(\"gov/%s.txt\"%(filename), 'w') \n",
      "    bid_detail.write(printarea .prettify(\"utf-8\")) \n",
      "    time.sleep(3)\n",
      "    bid_detail.close() \n",
      "bid_list.close()\n"
     ],
     "language": "python",
     "metadata": {},
     "outputs": []
    }
   ],
   "metadata": {}
  }
 ]
}