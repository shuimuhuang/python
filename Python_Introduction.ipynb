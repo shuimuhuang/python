{
 "metadata": {
  "name": ""
 },
 "nbformat": 3,
 "nbformat_minor": 0,
 "worksheets": [
  {
   "cells": [
    {
     "cell_type": "heading",
     "level": 2,
     "metadata": {
      "slideshow": {
       "slide_type": "slide"
      }
     },
     "source": [
      "Python \u7c21\u4ecb"
     ]
    },
    {
     "cell_type": "heading",
     "level": 3,
     "metadata": {
      "slideshow": {
       "slide_type": "slide"
      }
     },
     "source": [
      "Python \u8a9e\u6cd5\u57fa\u790e"
     ]
    },
    {
     "cell_type": "code",
     "collapsed": false,
     "input": [
      "#Value Assignment and Print Out Result\n",
      "a = 3\n",
      "print a +3"
     ],
     "language": "python",
     "metadata": {
      "slideshow": {
       "slide_type": "slide"
      }
     },
     "outputs": [
      {
       "output_type": "stream",
       "stream": "stdout",
       "text": [
        "6\n"
       ]
      }
     ],
     "prompt_number": 115
    },
    {
     "cell_type": "code",
     "collapsed": false,
     "input": [
      "# Concat String and Integer Outputs Error\n",
      "a = 1+\"hello\"\n",
      "print a\n"
     ],
     "language": "python",
     "metadata": {
      "slideshow": {
       "slide_type": "slide"
      }
     },
     "outputs": [
      {
       "ename": "TypeError",
       "evalue": "unsupported operand type(s) for +: 'int' and 'str'",
       "output_type": "pyerr",
       "traceback": [
        "\u001b[1;31m---------------------------------------------------------------------------\u001b[0m\n\u001b[1;31mTypeError\u001b[0m                                 Traceback (most recent call last)",
        "\u001b[1;32m<ipython-input-112-f61e344c2257>\u001b[0m in \u001b[0;36m<module>\u001b[1;34m()\u001b[0m\n\u001b[0;32m      1\u001b[0m \u001b[1;31m# Concat String and Integer Outputs Error\u001b[0m\u001b[1;33m\u001b[0m\u001b[1;33m\u001b[0m\u001b[0m\n\u001b[1;32m----> 2\u001b[1;33m \u001b[0ma\u001b[0m \u001b[1;33m=\u001b[0m \u001b[1;36m1\u001b[0m\u001b[1;33m+\u001b[0m\u001b[1;34m\"hello\"\u001b[0m\u001b[1;33m\u001b[0m\u001b[0m\n\u001b[0m\u001b[0;32m      3\u001b[0m \u001b[1;32mprint\u001b[0m \u001b[0ma\u001b[0m\u001b[1;33m\u001b[0m\u001b[0m\n",
        "\u001b[1;31mTypeError\u001b[0m: unsupported operand type(s) for +: 'int' and 'str'"
       ]
      }
     ],
     "prompt_number": 112
    },
    {
     "cell_type": "code",
     "collapsed": false,
     "input": [
      "#!/usr/bin/python\n",
      "import sys\n",
      "\n",
      "# This is a single line comment\n",
      "def main():\n",
      "    print 'Hello World'\n",
      "\n",
      "if __name__ == '__main__':\n",
      "    main()\n"
     ],
     "language": "python",
     "metadata": {},
     "outputs": [
      {
       "output_type": "stream",
       "stream": "stdout",
       "text": [
        "Hello World\n"
       ]
      }
     ],
     "prompt_number": 113
    },
    {
     "cell_type": "code",
     "collapsed": false,
     "input": [
      "import sys\n",
      "help(sys)\n",
      "help(sys.exit)"
     ],
     "language": "python",
     "metadata": {},
     "outputs": [
      {
       "output_type": "stream",
       "stream": "stdout",
       "text": [
        "Help on built-in module sys:\n",
        "\n",
        "NAME\n",
        "    sys\n",
        "\n",
        "FILE\n",
        "    (built-in)\n",
        "\n",
        "MODULE DOCS\n",
        "    http://docs.python.org/library/sys\n",
        "\n",
        "DESCRIPTION\n",
        "    This module provides access to some objects used or maintained by the\n",
        "    interpreter and to functions that interact strongly with the interpreter.\n",
        "    \n",
        "    Dynamic objects:\n",
        "    \n",
        "    argv -- command line arguments; argv[0] is the script pathname if known\n",
        "    path -- module search path; path[0] is the script directory, else ''\n",
        "    modules -- dictionary of loaded modules\n",
        "    \n",
        "    displayhook -- called to show results in an interactive session\n",
        "    excepthook -- called to handle any uncaught exception other than SystemExit\n",
        "      To customize printing in an interactive session or to install a custom\n",
        "      top-level exception handler, assign other functions to replace these.\n",
        "    \n",
        "    exitfunc -- if sys.exitfunc exists, this routine is called when Python exits\n",
        "      Assigning to sys.exitfunc is deprecated; use the atexit module instead.\n",
        "    \n",
        "    stdin -- standard input file object; used by raw_input() and input()\n",
        "    stdout -- standard output file object; used by the print statement\n",
        "    stderr -- standard error object; used for error messages\n",
        "      By assigning other file objects (or objects that behave like files)\n",
        "      to these, it is possible to redirect all of the interpreter's I/O.\n",
        "    \n",
        "    last_type -- type of last uncaught exception\n",
        "    last_value -- value of last uncaught exception\n",
        "    last_traceback -- traceback of last uncaught exception\n",
        "      These three are only available in an interactive session after a\n",
        "      traceback has been printed.\n",
        "    \n",
        "    exc_type -- type of exception currently being handled\n",
        "    exc_value -- value of exception currently being handled\n",
        "    exc_traceback -- traceback of exception currently being handled\n",
        "      The function exc_info() should be used instead of these three,\n",
        "      because it is thread-safe.\n",
        "    \n",
        "    Static objects:\n",
        "    \n",
        "    float_info -- a dict with information about the float inplementation.\n",
        "    long_info -- a struct sequence with information about the long implementation.\n",
        "    maxint -- the largest supported integer (the smallest is -maxint-1)\n",
        "    maxsize -- the largest supported length of containers.\n",
        "    maxunicode -- the largest supported character\n",
        "    builtin_module_names -- tuple of module names built into this interpreter\n",
        "    version -- the version of this interpreter as a string\n",
        "    version_info -- version information as a named tuple\n",
        "    hexversion -- version information encoded as a single integer\n",
        "    copyright -- copyright notice pertaining to this interpreter\n",
        "    platform -- platform identifier\n",
        "    executable -- absolute path of the executable binary of the Python interpreter\n",
        "    prefix -- prefix used to find the Python library\n",
        "    exec_prefix -- prefix used to find the machine-specific Python library\n",
        "    float_repr_style -- string indicating the style of repr() output for floats\n",
        "    dllhandle -- [Windows only] integer handle of the Python DLL\n",
        "    winver -- [Windows only] version number of the Python DLL\n",
        "    __stdin__ -- the original stdin; don't touch!\n",
        "    __stdout__ -- the original stdout; don't touch!\n",
        "    __stderr__ -- the original stderr; don't touch!\n",
        "    __displayhook__ -- the original displayhook; don't touch!\n",
        "    __excepthook__ -- the original excepthook; don't touch!\n",
        "    \n",
        "    Functions:\n",
        "    \n",
        "    displayhook() -- print an object to the screen, and save it in __builtin__._\n",
        "    excepthook() -- print an exception and its traceback to sys.stderr\n",
        "    exc_info() -- return thread-safe information about the current exception\n",
        "    exc_clear() -- clear the exception state for the current thread\n",
        "    exit() -- exit the interpreter by raising SystemExit\n",
        "    getdlopenflags() -- returns flags to be used for dlopen() calls\n",
        "    getprofile() -- get the global profiling function\n",
        "    getrefcount() -- return the reference count for an object (plus one :-)\n",
        "    getrecursionlimit() -- return the max recursion depth for the interpreter\n",
        "    getsizeof() -- return the size of an object in bytes\n",
        "    gettrace() -- get the global debug tracing function\n",
        "    setcheckinterval() -- control how often the interpreter checks for events\n",
        "    setdlopenflags() -- set the flags to be used for dlopen() calls\n",
        "    setprofile() -- set the global profiling function\n",
        "    setrecursionlimit() -- set the max recursion depth for the interpreter\n",
        "    settrace() -- set the global debug tracing function\n",
        "\n",
        "FUNCTIONS\n",
        "    __displayhook__ = displayhook(...)\n",
        "        displayhook(object) -> None\n",
        "        \n",
        "        Print an object to sys.stdout and also save it in __builtin__._\n",
        "    \n",
        "    __excepthook__ = excepthook(...)\n",
        "        excepthook(exctype, value, traceback) -> None\n",
        "        \n",
        "        Handle an exception by displaying it with a traceback on sys.stderr.\n",
        "    \n",
        "    call_tracing(...)\n",
        "        call_tracing(func, args) -> object\n",
        "        \n",
        "        Call func(*args), while tracing is enabled.  The tracing state is\n",
        "        saved, and restored afterwards.  This is intended to be called from\n",
        "        a debugger from a checkpoint, to recursively debug some other code.\n",
        "    \n",
        "    callstats(...)\n",
        "        callstats() -> tuple of integers\n",
        "        \n",
        "        Return a tuple of function call statistics, if CALL_PROFILE was defined\n",
        "        when Python was built.  Otherwise, return None.\n",
        "        \n",
        "        When enabled, this function returns detailed, implementation-specific\n",
        "        details about the number of function calls executed. The return value is\n",
        "        a 11-tuple where the entries in the tuple are counts of:\n",
        "        0. all function calls\n",
        "        1. calls to PyFunction_Type objects\n",
        "        2. PyFunction calls that do not create an argument tuple\n",
        "        3. PyFunction calls that do not create an argument tuple\n",
        "           and bypass PyEval_EvalCodeEx()\n",
        "        4. PyMethod calls\n",
        "        5. PyMethod calls on bound methods\n",
        "        6. PyType calls\n",
        "        7. PyCFunction calls\n",
        "        8. generator calls\n",
        "        9. All other calls\n",
        "        10. Number of stack pops performed by call_function()\n",
        "    \n",
        "    exc_clear(...)\n",
        "        exc_clear() -> None\n",
        "        \n",
        "        Clear global information on the current exception.  Subsequent calls to\n",
        "        exc_info() will return (None,None,None) until another exception is raised\n",
        "        in the current thread or the execution stack returns to a frame where\n",
        "        another exception is being handled.\n",
        "    \n",
        "    exc_info(...)\n",
        "        exc_info() -> (type, value, traceback)\n",
        "        \n",
        "        Return information about the most recent exception caught by an except\n",
        "        clause in the current stack frame or in an older stack frame.\n",
        "    \n",
        "    exit(...)\n",
        "        exit([status])\n",
        "        \n",
        "        Exit the interpreter by raising SystemExit(status).\n",
        "        If the status is omitted or None, it defaults to zero (i.e., success).\n",
        "        If the status is numeric, it will be used as the system exit status.\n",
        "        If it is another kind of object, it will be printed and the system\n",
        "        exit status will be one (i.e., failure).\n",
        "    \n",
        "    getcheckinterval(...)\n",
        "        getcheckinterval() -> current check interval; see setcheckinterval().\n",
        "    \n",
        "    getdefaultencoding(...)\n",
        "        getdefaultencoding() -> string\n",
        "        \n",
        "        Return the current default string encoding used by the Unicode \n",
        "        implementation.\n",
        "    \n",
        "    getfilesystemencoding(...)\n",
        "        getfilesystemencoding() -> string\n",
        "        \n",
        "        Return the encoding used to convert Unicode filenames in\n",
        "        operating system filenames.\n",
        "    \n",
        "    getprofile(...)\n",
        "        getprofile()\n",
        "        \n",
        "        Return the profiling function set with sys.setprofile.\n",
        "        See the profiler chapter in the library manual.\n",
        "    \n",
        "    getrecursionlimit(...)\n",
        "        getrecursionlimit()\n",
        "        \n",
        "        Return the current value of the recursion limit, the maximum depth\n",
        "        of the Python interpreter stack.  This limit prevents infinite\n",
        "        recursion from causing an overflow of the C stack and crashing Python.\n",
        "    \n",
        "    getrefcount(...)\n",
        "        getrefcount(object) -> integer\n",
        "        \n",
        "        Return the reference count of object.  The count returned is generally\n",
        "        one higher than you might expect, because it includes the (temporary)\n",
        "        reference as an argument to getrefcount().\n",
        "    \n",
        "    getsizeof(...)\n",
        "        getsizeof(object, default) -> int\n",
        "        \n",
        "        Return the size of object in bytes.\n",
        "    \n",
        "    gettrace(...)\n",
        "        gettrace()\n",
        "        \n",
        "        Return the global debug tracing function set with sys.settrace.\n",
        "        See the debugger chapter in the library manual.\n",
        "    \n",
        "    getwindowsversion(...)\n",
        "        getwindowsversion()\n",
        "        \n",
        "        Return information about the running version of Windows as a named tuple.\n",
        "        The members are named: major, minor, build, platform, service_pack,\n",
        "        service_pack_major, service_pack_minor, suite_mask, and product_type. For\n",
        "        backward compatibility, only the first 5 items are available by indexing.\n",
        "        All elements are numbers, except service_pack which is a string. Platform\n",
        "        may be 0 for win32s, 1 for Windows 9x/ME, 2 for Windows NT/2000/XP/Vista/7,\n",
        "        3 for Windows CE. Product_type may be 1 for a workstation, 2 for a domain\n",
        "        controller, 3 for a server.\n",
        "    \n",
        "    setcheckinterval(...)\n",
        "        setcheckinterval(n)\n",
        "        \n",
        "        Tell the Python interpreter to check for asynchronous events every\n",
        "        n instructions.  This also affects how often thread switches occur.\n",
        "    \n",
        "    setprofile(...)\n",
        "        setprofile(function)\n",
        "        \n",
        "        Set the profiling function.  It will be called on each function call\n",
        "        and return.  See the profiler chapter in the library manual.\n",
        "    \n",
        "    setrecursionlimit(...)\n",
        "        setrecursionlimit(n)\n",
        "        \n",
        "        Set the maximum depth of the Python interpreter stack to n.  This\n",
        "        limit prevents infinite recursion from causing an overflow of the C\n",
        "        stack and crashing Python.  The highest possible limit is platform-\n",
        "        dependent.\n",
        "    \n",
        "    settrace(...)\n",
        "        settrace(function)\n",
        "        \n",
        "        Set the global debug tracing function.  It will be called on each\n",
        "        function call.  See the debugger chapter in the library manual.\n",
        "\n",
        "DATA\n",
        "    __stderr__ = <open file '<stderr>', mode 'w'>\n",
        "    __stdin__ = <open file '<stdin>', mode 'r'>\n",
        "    __stdout__ = <open file '<stdout>', mode 'w'>\n",
        "    api_version = 1013\n",
        "    argv = ['-c', '-f', r'C:\\Users\\david\\.ipython\\profile_default\\security...\n",
        "    builtin_module_names = ('__builtin__', '__main__', '_ast', '_bisect', ...\n",
        "    byteorder = 'little'\n",
        "    copyright = 'Copyright (c) 2001-2012 Python Software Foundati...ematis...\n",
        "    displayhook = <IPython.kernel.zmq.displayhook.ZMQShellDisplayHook obje...\n",
        "    dllhandle = 503316480\n",
        "    dont_write_bytecode = False\n",
        "    exc_value = TypeError(\"<module 'sys' (built-in)> is a built-in module\"...\n",
        "    exec_prefix = r'C:\\Python27'\n",
        "    executable = r'C:\\Python27\\python.exe'\n",
        "    flags = sys.flags(debug=0, py3k_warning=0, division_warn...unicode=0, ...\n",
        "    float_info = sys.float_info(max=1.7976931348623157e+308, max_...epsilo...\n",
        "    float_repr_style = 'short'\n",
        "    hexversion = 34014192\n",
        "    last_value = TypeError(\"unsupported operand type(s) for +: 'int' and '...\n",
        "    long_info = sys.long_info(bits_per_digit=15, sizeof_digit=2)\n",
        "    maxint = 2147483647\n",
        "    maxsize = 2147483647\n",
        "    maxunicode = 65535\n",
        "    meta_path = []\n",
        "    modules = {'ConfigParser': <module 'ConfigParser' from 'C:\\Python27\\Li...\n",
        "    path = ['', r'C:\\Python27\\lib\\site-packages\\pip-1.1-py2.7.egg', r'C:\\P...\n",
        "    path_hooks = [<type 'zipimport.zipimporter'>]\n",
        "    path_importer_cache = {'': None, r'C:\\Python27': None, r'C:\\Python27\\D...\n",
        "    platform = 'win32'\n",
        "    prefix = r'C:\\Python27'\n",
        "    ps1 = 'In : '\n",
        "    ps2 = '...: '\n",
        "    ps3 = 'Out: '\n",
        "    py3kwarning = False\n",
        "    stderr = <IPython.kernel.zmq.iostream.OutStream object>\n",
        "    stdin = <open file '<stdin>', mode 'r'>\n",
        "    stdout = <IPython.kernel.zmq.iostream.OutStream object>\n",
        "    subversion = ('CPython', '', '')\n",
        "    version = '2.7.3 (default, Apr 10 2012, 23:31:26) [MSC v.1500 32 bit (...\n",
        "    version_info = sys.version_info(major=2, minor=7, micro=3, releaseleve...\n",
        "    warnoptions = []\n",
        "    winver = '2.7'\n",
        "\n",
        "\n",
        "Help on built-in function exit in module sys:\n",
        "\n",
        "exit(...)\n",
        "    exit([status])\n",
        "    \n",
        "    Exit the interpreter by raising SystemExit(status).\n",
        "    If the status is omitted or None, it defaults to zero (i.e., success).\n",
        "    If the status is numeric, it will be used as the system exit status.\n",
        "    If it is another kind of object, it will be printed and the system\n",
        "    exit status will be one (i.e., failure).\n",
        "\n"
       ]
      }
     ],
     "prompt_number": 114
    },
    {
     "cell_type": "heading",
     "level": 3,
     "metadata": {},
     "source": [
      "\u6578\u503c\u904b\u7b97"
     ]
    },
    {
     "cell_type": "code",
     "collapsed": false,
     "input": [
      "#None: Evaluator\n",
      "None==None, None==False, not(None)    "
     ],
     "language": "python",
     "metadata": {},
     "outputs": [
      {
       "metadata": {},
       "output_type": "pyout",
       "prompt_number": 105,
       "text": [
        "(True, False, True)"
       ]
      }
     ],
     "prompt_number": 105
    },
    {
     "cell_type": "code",
     "collapsed": false,
     "input": [
      "True, False==False, bool(42),not(42==True), \\\n",
      "(True or False) and not(False), True==1,not(1.000001 == 1), \\\n",
      "1.00000000000000000000000001 == 1"
     ],
     "language": "python",
     "metadata": {},
     "outputs": [
      {
       "metadata": {},
       "output_type": "pyout",
       "prompt_number": 106,
       "text": [
        "(True, True, True, True, True, True, True, True)"
       ]
      }
     ],
     "prompt_number": 106
    },
    {
     "cell_type": "code",
     "collapsed": false,
     "input": [
      "#Integer: \n",
      "32, int('42'), 1/3, 1//3 , int(True), int(3.14)"
     ],
     "language": "python",
     "metadata": {},
     "outputs": [
      {
       "metadata": {},
       "output_type": "pyout",
       "prompt_number": 109,
       "text": [
        "(32, 42, 0, 0, 1, 3)"
       ]
      }
     ],
     "prompt_number": 109
    },
    {
     "cell_type": "code",
     "collapsed": false,
     "input": [
      "#Long: \n",
      "1231980985476123891320918203981230123, long(1), 5L "
     ],
     "language": "python",
     "metadata": {},
     "outputs": [
      {
       "metadata": {},
       "output_type": "pyout",
       "prompt_number": 108,
       "text": [
        "(1231980985476123891320918203981230123L, 1L, 5L)"
       ]
      }
     ],
     "prompt_number": 108
    },
    {
     "cell_type": "code",
     "collapsed": false,
     "input": [
      "#Float: \n",
      "4., 4.0, float(42), 1.0/3, complex(1j).real, complex(1j).imag,\n",
      "4.2e3, 4.2E+3, 3**-1, float('nan'), float('inf') "
     ],
     "language": "python",
     "metadata": {},
     "outputs": [
      {
       "metadata": {},
       "output_type": "pyout",
       "prompt_number": 110,
       "text": [
        "(4200.0, 4200.0, 0.3333333333333333, nan, inf)"
       ]
      }
     ],
     "prompt_number": 110
    },
    {
     "cell_type": "code",
     "collapsed": false,
     "input": [
      "#Complex: \n",
      "complex(3), complex(1j), complex('4+j'), complex(1,2), 1+1j"
     ],
     "language": "python",
     "metadata": {},
     "outputs": [
      {
       "metadata": {},
       "output_type": "pyout",
       "prompt_number": 111,
       "text": [
        "((3+0j), 1j, (4+1j), (1+2j), (1+1j))"
       ]
      }
     ],
     "prompt_number": 111
    },
    {
     "cell_type": "heading",
     "level": 3,
     "metadata": {},
     "source": [
      "\u5b57\u4e32"
     ]
    },
    {
     "cell_type": "code",
     "collapsed": false,
     "input": [
      "#\u5b57\u4e32\u985e\u5225 (str) \u662f\u5167\u5efa\u7684\n",
      "a = \"hello world\"\n",
      "print a.__str__"
     ],
     "language": "python",
     "metadata": {},
     "outputs": [
      {
       "output_type": "stream",
       "stream": "stdout",
       "text": [
        "<method-wrapper '__str__' of str object at 0x04A87D60>\n"
       ]
      }
     ],
     "prompt_number": 7
    },
    {
     "cell_type": "code",
     "collapsed": false,
     "input": [
      "#Double quote (\u201c\u201d) \u8ddf single quote (\u2018\u2019)\u53ef\u4ee5\u6df7\u7528\n",
      "a = 'this is a \"book\"'\n",
      "print a"
     ],
     "language": "python",
     "metadata": {},
     "outputs": [
      {
       "output_type": "stream",
       "stream": "stdout",
       "text": [
        "this is a \"book\"\n"
       ]
      }
     ],
     "prompt_number": 1
    },
    {
     "cell_type": "code",
     "collapsed": false,
     "input": [
      "# \u4f7f\u7528 \\ \u4f5c\u70ba\u63db\u884c\u7b26\u865f\n",
      "a = 'hi this is a l\\\n",
      "ong text'\n",
      "\n",
      "print a\n",
      "\n",
      "# \u4f7f\u7528\u4e09\u500bsingle quote \u505a\u591a\u884c\u8655\u7406\n",
      "a = '''hi this is a l\n",
      "ong text'''\n",
      "print a\n"
     ],
     "language": "python",
     "metadata": {},
     "outputs": [
      {
       "output_type": "stream",
       "stream": "stdout",
       "text": [
        "hi this is a long text\n",
        "hi this is a l\n",
        "ong text\n"
       ]
      }
     ],
     "prompt_number": 11
    },
    {
     "cell_type": "code",
     "collapsed": false,
     "input": [
      "# \u5b57\u4e32\u64cd\u4f5c\n",
      "s = 'hello world'\n",
      "print s[1]  #e\n",
      "print s[-1] #d\n",
      "print len(s)        ## 11\n",
      "print s + ' yoyo'  ## hi there"
     ],
     "language": "python",
     "metadata": {},
     "outputs": [
      {
       "output_type": "stream",
       "stream": "stdout",
       "text": [
        "e\n",
        "d\n",
        "11\n",
        "hello world yoyo\n"
       ]
      }
     ],
     "prompt_number": 15
    },
    {
     "cell_type": "code",
     "collapsed": false,
     "input": [
      "# \u4f7f\u7528str \u505a\u8f49\u578b\n",
      "age = 30\n",
      "print \"my age is \" + str(age)"
     ],
     "language": "python",
     "metadata": {},
     "outputs": [
      {
       "output_type": "stream",
       "stream": "stdout",
       "text": [
        "my age is 30\n"
       ]
      }
     ],
     "prompt_number": 20
    },
    {
     "cell_type": "code",
     "collapsed": false,
     "input": [
      "# \u5e36\u6709 format \u7684 String \n",
      "raw = '\\n\\t this is a \\t line with format \\t\\n'\n",
      "print raw   \n",
      "\n",
      "# \u4f7f\u7528 r \u53d6\u5f97raw string\n",
      "raw = r'\\n\\t this is a \\t line with format \\t\\n'\n",
      "print raw   \n",
      "\n",
      "# \u4f7f\u7528 repr \u53d6\u5f97string \u4e2d\u7684\u8868\u793a\n",
      "raw = repr('\\n\\t this is a \\t line with format \\t\\n')\n",
      "print raw    "
     ],
     "language": "python",
     "metadata": {},
     "outputs": [
      {
       "output_type": "stream",
       "stream": "stdout",
       "text": [
        "\n",
        "\t this is a \t line with format \t\n",
        "\n",
        "\\n\\t this is a \\t line with format \\t\\n\n",
        "'\\n\\t this is a \\t line with format \\t\\n'\n"
       ]
      }
     ],
     "prompt_number": 24
    },
    {
     "cell_type": "code",
     "collapsed": false,
     "input": [
      "# \u5b57\u4e32\u51fd\u5f0f\n",
      "a = 'Qoo loves OOP'\n",
      "a.split(), \\\n",
      "a.upper(), \\\n",
      "a.title(),"
     ],
     "language": "python",
     "metadata": {},
     "outputs": [
      {
       "metadata": {},
       "output_type": "pyout",
       "prompt_number": 25,
       "text": [
        "(['Qoo', 'loves', 'OOP'], 'QOO LOVES OOP', 'Qoo Loves Oop')"
       ]
      }
     ],
     "prompt_number": 25
    },
    {
     "cell_type": "code",
     "collapsed": false,
     "input": [
      "import string\n",
      "a = 'Qoo loves OOP'\n",
      "string.join(a.split(), '-') # 'Qoo-loves-OOP'"
     ],
     "language": "python",
     "metadata": {},
     "outputs": [
      {
       "metadata": {},
       "output_type": "pyout",
       "prompt_number": 26,
       "text": [
        "'Qoo-loves-OOP'"
       ]
      }
     ],
     "prompt_number": 26
    },
    {
     "cell_type": "code",
     "collapsed": false,
     "input": [
      "a = 'Qoo loves OOP'\n",
      "'-'.join(a.split())"
     ],
     "language": "python",
     "metadata": {},
     "outputs": [
      {
       "metadata": {},
       "output_type": "pyout",
       "prompt_number": 28,
       "text": [
        "'Qoo-loves-OOP'"
       ]
      }
     ],
     "prompt_number": 28
    },
    {
     "cell_type": "code",
     "collapsed": false,
     "input": [
      "s = 'hello'\n",
      "s[1:4]   , \\\n",
      "s[1:]    , \\\n",
      "s[:]     , \\\n",
      "s[1:100] , \\"
     ],
     "language": "python",
     "metadata": {},
     "outputs": [
      {
       "metadata": {},
       "output_type": "pyout",
       "prompt_number": 44,
       "text": [
        "('ell', 'ello', 'hello', 'ello')"
       ]
      }
     ],
     "prompt_number": 44
    },
    {
     "cell_type": "code",
     "collapsed": false,
     "input": [
      "s = 'hello'\n",
      "s[-1] , \\\n",
      "s[-4] , \\\n",
      "s[:-3] , \\\n",
      "s[-3:] , \\"
     ],
     "language": "python",
     "metadata": {},
     "outputs": [
      {
       "metadata": {},
       "output_type": "pyout",
       "prompt_number": 92,
       "text": [
        "('o', 'e', 'he', 'llo')"
       ]
      }
     ],
     "prompt_number": 92
    },
    {
     "cell_type": "code",
     "collapsed": false,
     "input": [
      "#String Formatting \n",
      "print 'The results are %.02f and %d' % (3.14159, 5)\n",
      "\n",
      "#The results are 3.14 and 5\n"
     ],
     "language": "python",
     "metadata": {},
     "outputs": [
      {
       "output_type": "stream",
       "stream": "stdout",
       "text": [
        "The results are 3.14 and 5\n"
       ]
      }
     ],
     "prompt_number": 94
    },
    {
     "cell_type": "code",
     "collapsed": false,
     "input": [
      "# -*- coding: utf-8 -*-\n",
      "unistring = u'Handling \u4e2d\u6587\u5b57\u4e32'\n",
      "print type(unistring), len(unistring)\n",
      "print unistring.encode('big5')\n",
      "print unistring.encode('utf-8')\n",
      "print unistring.encode('utf-8').decode('utf-8')\n",
      "print unicode(unistring.encode('utf-8'), 'utf-8')  \n"
     ],
     "language": "python",
     "metadata": {},
     "outputs": [
      {
       "output_type": "stream",
       "stream": "stdout",
       "text": [
        "<type 'unicode'> 13\n",
        "Handling \ufffd\ufffd\ufffd\ufffdr\ufffd\ufffd\n",
        "Handling \u4e2d\u6587\u5b57\u4e32\n",
        "Handling \u4e2d\u6587\u5b57\u4e32\n",
        "Handling \u4e2d\u6587\u5b57\u4e32\n"
       ]
      }
     ],
     "prompt_number": 77
    },
    {
     "cell_type": "heading",
     "level": 3,
     "metadata": {},
     "source": [
      "List"
     ]
    },
    {
     "cell_type": "code",
     "collapsed": false,
     "input": [
      "a = [5, 6, 7, 8] # a = [5 6 7 8] \n",
      "print a[0] # 5\n",
      "print a[2:4] # [7, 8] \n",
      "print a[-1] # 8 \n",
      "print a[-2] # 7\n",
      "print a[2:] # [7, 8]\n",
      "print a[::2] # [5, 7]\n",
      "print a[::-1] # [8, 7, 6, 5]\n",
      "print len(a) # 4\n",
      "print [min(a), max(a)] # [5, 8]"
     ],
     "language": "python",
     "metadata": {},
     "outputs": [
      {
       "output_type": "stream",
       "stream": "stdout",
       "text": [
        "5\n",
        "[7, 8]\n",
        "8\n",
        "7\n",
        "[7, 8]\n",
        "[5, 7]\n",
        "[8, 7, 6, 5]\n",
        "4\n",
        "[5, 8]\n"
       ]
      }
     ],
     "prompt_number": 78
    },
    {
     "cell_type": "code",
     "collapsed": false,
     "input": [
      "a = [5, 6, 7, 8]\n",
      "a.pop() # a = [5, 6, 7]\n",
      "a.append(2) # a = [5, 6, 7, 2]\n",
      "a.sort() # a = [2, 5, 6, 7]\n",
      "a.reverse() # a = [7, 6, 5, 2]\n",
      "a"
     ],
     "language": "python",
     "metadata": {},
     "outputs": [
      {
       "metadata": {},
       "output_type": "pyout",
       "prompt_number": 82,
       "text": [
        "[7, 6, 5, 2]"
       ]
      }
     ],
     "prompt_number": 82
    },
    {
     "cell_type": "code",
     "collapsed": false,
     "input": [
      "a = [1, 2, 3]\n",
      "b = a\n",
      "a[1] = 2000\n",
      "b"
     ],
     "language": "python",
     "metadata": {},
     "outputs": [
      {
       "metadata": {},
       "output_type": "pyout",
       "prompt_number": 83,
       "text": [
        "[1, 2000, 3]"
       ]
      }
     ],
     "prompt_number": 83
    },
    {
     "cell_type": "code",
     "collapsed": false,
     "input": [
      "#List Copy\n",
      "a = [1, 2, 3]\n",
      "\n",
      "#List \n",
      "b = a[:]\n",
      "print b\n",
      "\n",
      "#List\n",
      "b = list(a)\n",
      "print b\n",
      "\n",
      "#Extent\n",
      "b = [] \n",
      "b.extend(a)\n",
      "print b\n",
      "\n",
      "#Iterration\n",
      "b = []\n",
      "for n in range(len(a)):\n",
      "    b.append(a[n])\n",
      "print b\n",
      "\n",
      "#Foreach\n",
      "b = [ e for e in a ]\n",
      "b\n",
      "print b"
     ],
     "language": "python",
     "metadata": {},
     "outputs": [
      {
       "output_type": "stream",
       "stream": "stdout",
       "text": [
        "[1, 2, 3]\n",
        "[1, 2, 3]\n",
        "[1, 2, 3]\n",
        "[1, 2, 3]\n",
        "[1, 2, 3]\n"
       ]
      }
     ],
     "prompt_number": 86
    },
    {
     "cell_type": "code",
     "collapsed": false,
     "input": [
      "# deep copy\n",
      "a = [1, 2, 3]\n",
      "import copy\n",
      "aa = copy.deepcopy(a) # Deep Copy\n",
      "a[1] = 2000\n",
      "print aa"
     ],
     "language": "python",
     "metadata": {},
     "outputs": [
      {
       "output_type": "stream",
       "stream": "stdout",
       "text": [
        "[1, 2, 3]\n"
       ]
      }
     ],
     "prompt_number": 91
    },
    {
     "cell_type": "code",
     "collapsed": false,
     "input": [
      "#List \u53ef\u4ee5\u88dd\u8f09\u4e0d\u540c\u985e\u578b\u5143\u7d20\n",
      "print ['asap', 3]\n",
      "print list(\"word\"), \n",
      "print [['list'], ['of', 'lists']]\n",
      "print list(('a', 1))\n",
      "\n",
      "a = ['heterogeneous', 3]\n",
      "a[1] + 5 \n"
     ],
     "language": "python",
     "metadata": {},
     "outputs": [
      {
       "output_type": "stream",
       "stream": "stdout",
       "text": [
        "['asap', 3]\n",
        "['w', 'o', 'r', 'd'] [['list'], ['of', 'lists']]\n",
        "['a', 1]\n"
       ]
      },
      {
       "metadata": {},
       "output_type": "pyout",
       "prompt_number": 95,
       "text": [
        "8"
       ]
      }
     ],
     "prompt_number": 95
    },
    {
     "cell_type": "code",
     "collapsed": false,
     "input": [
      "nums = [1, 2, 3, 4]\n",
      "squares = [ n * n for n in nums ]   \n",
      "print squares\n",
      "\n",
      "## \u7be9\u9078 values <= 2\n",
      "nums = [2, 8, 1, 6]\n",
      "small = [ n for n in nums if n <= 2 ]  ## [2, 1]\n",
      "print small\n",
      "\n",
      "## \u7be9\u9078 \u5305\u542b 'a' \u7684 fruits, \u4e26\u8f49\u63db\u70ba\u5927\u5beb\n",
      "fruits = ['apple', 'cherry', 'bannana', 'lemon']\n",
      "afruits = [ s.upper() for s in fruits if 'a' in s ]\n",
      "print afruits"
     ],
     "language": "python",
     "metadata": {},
     "outputs": [
      {
       "output_type": "stream",
       "stream": "stdout",
       "text": [
        "[1, 4, 9, 16]\n",
        "[2, 1]\n",
        "['APPLE', 'BANNANA']\n"
       ]
      }
     ],
     "prompt_number": 100
    },
    {
     "cell_type": "heading",
     "level": 3,
     "metadata": {},
     "source": [
      "\u5b57\u5178 (Dictionary)"
     ]
    },
    {
     "cell_type": "code",
     "collapsed": false,
     "input": [
      "#Dictionary (Python hash): \n",
      "{}, { 'three': 3, 5: 'five'}, \\\n",
      "{'one': 'two', 'three': 'four'}, \\\n",
      "dict([['one', 'two' ], ['three', 'four']])"
     ],
     "language": "python",
     "metadata": {},
     "outputs": [
      {
       "metadata": {},
       "output_type": "pyout",
       "prompt_number": 101,
       "text": [
        "({},\n",
        " {5: 'five', 'three': 3},\n",
        " {'one': 'two', 'three': 'four'},\n",
        " {'one': 'two', 'three': 'four'})"
       ]
      }
     ],
     "prompt_number": 101
    },
    {
     "cell_type": "code",
     "collapsed": false,
     "input": [
      "a = {'one': 'two', 'three': 'four'}\n",
      "a.keys(), a.values()"
     ],
     "language": "python",
     "metadata": {},
     "outputs": [
      {
       "metadata": {},
       "output_type": "pyout",
       "prompt_number": 102,
       "text": [
        "(['three', 'one'], ['four', 'two'])"
       ]
      }
     ],
     "prompt_number": 102
    },
    {
     "cell_type": "code",
     "collapsed": false,
     "input": [
      "d = {'Taiwan': 'Taipei', 'Japan': 'Tokyo'}\n",
      "\n",
      "for (k,v) in d.items():\n",
      "    print(k + ' has the capital ' + v)"
     ],
     "language": "python",
     "metadata": {},
     "outputs": [
      {
       "output_type": "stream",
       "stream": "stdout",
       "text": [
        "Japan has the capital Tokyo\n",
        "Taiwan has the capital Taipei\n"
       ]
      }
     ],
     "prompt_number": 103
    },
    {
     "cell_type": "heading",
     "level": 3,
     "metadata": {},
     "source": [
      "\u5176\u4ed6\u578b\u614b"
     ]
    },
    {
     "cell_type": "code",
     "collapsed": false,
     "input": [
      "#Tuple: \n",
      "(1, 2), ('a', 1), ('remember comma',), tuple(['a', 1])"
     ],
     "language": "python",
     "metadata": {
      "slideshow": {
       "slide_type": "slide"
      }
     },
     "outputs": [
      {
       "metadata": {},
       "output_type": "pyout",
       "prompt_number": 15,
       "text": [
        "((1, 2), ('a', 1), ('remember comma',), ('a', 1))"
       ]
      }
     ],
     "prompt_number": 15
    },
    {
     "cell_type": "code",
     "collapsed": false,
     "input": [
      "#Set (distinct unordered): \n",
      "set(), set([1, 2]), set([2, 1]),\\\n",
      "set((2, 1)), set(range(0,5)) - set(range(4,10)),\\\n",
      "set([1, 2]) | set([3, 4])"
     ],
     "language": "python",
     "metadata": {
      "slideshow": {
       "slide_type": "slide"
      }
     },
     "outputs": [
      {
       "metadata": {},
       "output_type": "pyout",
       "prompt_number": 33,
       "text": [
        "(set(), {1, 2}, {1, 2}, {1, 2}, {0, 1, 2, 3}, {1, 2, 3, 4})"
       ]
      }
     ],
     "prompt_number": 33
    },
    {
     "cell_type": "code",
     "collapsed": false,
     "input": [
      "#Frozenset (immutable): \n",
      "frozenset(), frozenset([1, 2]), \\\n",
      "frozenset([frozenset([1, 2]), frozenset([1, 2, 3])])"
     ],
     "language": "python",
     "metadata": {
      "slideshow": {
       "slide_type": "slide"
      }
     },
     "outputs": [
      {
       "metadata": {},
       "output_type": "pyout",
       "prompt_number": 34,
       "text": [
        "(frozenset(),\n",
        " frozenset({1, 2}),\n",
        " frozenset({frozenset({1, 2}), frozenset({1, 2, 3})}))"
       ]
      }
     ],
     "prompt_number": 34
    },
    {
     "cell_type": "heading",
     "level": 3,
     "metadata": {
      "slideshow": {
       "slide_type": "slide"
      }
     },
     "source": [
      "\u8ff4\u5708\u8207\u63a7\u5236\u6d41\u7a0b"
     ]
    },
    {
     "cell_type": "code",
     "collapsed": false,
     "input": [
      "#if - else\n",
      "a = 9\n",
      "for i in range(-1,9):\n",
      "    print i\n",
      "    if i == a:\n",
      "        print(str(a) + ' found!')\n",
      "        break\n",
      "    else:\n",
      "        print(str(a) + ' was not in the list')"
     ],
     "language": "python",
     "metadata": {
      "slideshow": {
       "slide_type": "slide"
      }
     },
     "outputs": [
      {
       "output_type": "stream",
       "stream": "stdout",
       "text": [
        "-1\n",
        "9 was not in the list\n",
        "0\n",
        "9 was not in the list\n",
        "1\n",
        "9 was not in the list\n",
        "2\n",
        "9 was not in the list\n",
        "3\n",
        "9 was not in the list\n",
        "4\n",
        "9 was not in the list\n",
        "5\n",
        "9 was not in the list\n",
        "6\n",
        "9 was not in the list\n",
        "7\n",
        "9 was not in the list\n",
        "8\n",
        "9 was not in the list\n"
       ]
      }
     ],
     "prompt_number": 3
    },
    {
     "cell_type": "code",
     "collapsed": false,
     "input": [
      "# from 1 to 10\n",
      "for i in range(1,10):\n",
      "    print i,\n",
      "    \n",
      "print\n",
      "\n",
      "# step by 2\n",
      "for i in range(1,10,2):\n",
      "    print i,\n",
      "\n",
      "print\n",
      "\n",
      "# Iterate over list\n",
      "a = [1,2,3,4,5]\n",
      "for i in a:\n",
      "    print i,"
     ],
     "language": "python",
     "metadata": {},
     "outputs": [
      {
       "output_type": "stream",
       "stream": "stdout",
       "text": [
        "1 2 3 4 5 6 7 8 9\n",
        "1 3 5 7 9 1 2 3 4 5\n"
       ]
      }
     ],
     "prompt_number": 123
    },
    {
     "cell_type": "heading",
     "level": 3,
     "metadata": {
      "slideshow": {
       "slide_type": "slide"
      }
     },
     "source": [
      "\u51fd\u5f0f"
     ]
    },
    {
     "cell_type": "code",
     "collapsed": false,
     "input": [
      "def addNum(a, b):#Define Function\n",
      "    return a+b #Return function \n",
      "\n",
      "print addNum(1,4)\n"
     ],
     "language": "python",
     "metadata": {
      "slideshow": {
       "slide_type": "slide"
      }
     },
     "outputs": [
      {
       "output_type": "stream",
       "stream": "stdout",
       "text": [
        "5\n"
       ]
      }
     ],
     "prompt_number": 5
    },
    {
     "cell_type": "code",
     "collapsed": false,
     "input": [
      "#Function call with a variable number of input arguments\n",
      "def myunion(x, *args):\n",
      "    u = set(x)\n",
      "    for y in args:\n",
      "        u = u.union(set(y))\n",
      "    return u\n",
      "\n",
      "myunion([1]), myunion([1], [1, 2, 4], [3, 4])"
     ],
     "language": "python",
     "metadata": {
      "slideshow": {
       "slide_type": "slide"
      }
     },
     "outputs": [
      {
       "metadata": {},
       "output_type": "pyout",
       "prompt_number": 45,
       "text": [
        "({1}, {1, 2, 3, 4})"
       ]
      }
     ],
     "prompt_number": 45
    },
    {
     "cell_type": "code",
     "collapsed": false,
     "input": [
      "#unknown named arguments\n",
      "def my_key_union(x, **kwargs):\n",
      "    union = set(x)\n",
      "    for key, value in kwargs.items():\n",
      "        if value:\n",
      "            union.add(key)\n",
      "    return union\n",
      "\n",
      "#Example call:\n",
      "my_key_union(['the'], stop=True, halt=False)\n"
     ],
     "language": "python",
     "metadata": {
      "slideshow": {
       "slide_type": "slide"
      }
     },
     "outputs": [
      {
       "metadata": {},
       "output_type": "pyout",
       "prompt_number": 46,
       "text": [
        "{'stop', 'the'}"
       ]
      }
     ],
     "prompt_number": 46
    },
    {
     "cell_type": "code",
     "collapsed": false,
     "input": [
      "import math, sys # Importing modules.\n",
      "\n",
      "def formatresult(res): # Define function. Remember \":\"\n",
      "    \"\"\"This is the documentation for a function.\"\"\"\n",
      "    return \"The result is %f\" % res # Percentage for formating\n",
      "\n",
      "if len(sys.argv) < 3: # Conditionals should be indended\n",
      "    print(\"Too few input argument\")\n",
      "elif len(sys.argv) > 10: # Not 'elsif' or 'elseif'\n",
      "    print(\"Too many input argument\")\n",
      "else:\n",
      "    res = 0\n",
      "    for n in range(1, len(sys.argv)): \n",
      "        try: res += float(sys.argv[n]) \n",
      "        except: pass # One-liner\n",
      "    print(formatresult(res))"
     ],
     "language": "python",
     "metadata": {
      "slideshow": {
       "slide_type": "slide"
      }
     },
     "outputs": [],
     "prompt_number": 117
    },
    {
     "cell_type": "code",
     "collapsed": false,
     "input": [
      "import math #Importing Modules\n",
      "print math #Print Content\n",
      "\n",
      "import sys #Importing Modules\n",
      "print(sys.argv) #Print Argument\n",
      "\n",
      "print range(1,len(sys.argv))"
     ],
     "language": "python",
     "metadata": {
      "slideshow": {
       "slide_type": "slide"
      }
     },
     "outputs": [
      {
       "output_type": "stream",
       "stream": "stdout",
       "text": [
        "<module 'math' (built-in)>\n",
        "['-c', '-f', 'C:\\\\Users\\\\david\\\\.ipython\\\\profile_default\\\\security\\\\kernel-06354f75-b837-4fb3-9c65-6a2184f8438f.json', \"--IPKernelApp.parent_appname='ipython-notebook'\", '--interrupt=976', '--parent=948']\n",
        "[1, 2, 3, 4, 5]\n"
       ]
      }
     ],
     "prompt_number": 30
    },
    {
     "cell_type": "markdown",
     "metadata": {
      "slideshow": {
       "slide_type": "slide"
      }
     },
     "source": [
      "###\u7269\u4ef6\u5c0e\u5411\u7a0b\u5f0f\u8a2d\u8a08\n",
      "\n",
      "* __init__() Constructor, \u5efa\u69cb\u5b50\n",
      "* __class__ \u7269\u4ef6\u985e\u578b, e.g., <type 'list'>\n",
      "* __doc__ \u6587\u4ef6: \u4f7f\u7528 help() \u67e5\u8a62\n",
      "* __str__() \u5370\u51fa\u7269\u4ef6\n",
      "* __getitem__() \u53d6\u5f97\u5167\u5bb9\n",
      "* __call__() \u7576\u7269\u4ef6\u662f\u51fd\u5f0f\u6642\u7684\u547c\u53eb\u65b9\u6cd5"
     ]
    },
    {
     "cell_type": "code",
     "collapsed": false,
     "input": [
      "class Person():\n",
      "    count = 0 # Static/class variable\n",
      "    def __init__(self, name, city):\n",
      "        self.name = name # Variable for the instance\n",
      "        self.city = city # Variable for the instance\n",
      "        Person.count += 1\n",
      "    def number_of_persons(self):\n",
      "        return Person.count\n",
      "\n",
      "First = Person(\"David\", \"Chiayi\")\n",
      "First.number_of_persons() # 1\n",
      "\n",
      "Second = Person(\"QOO\", \"coca-cola\")\n",
      "print Second.number_of_persons() # 2\n",
      "First.name"
     ],
     "language": "python",
     "metadata": {
      "slideshow": {
       "slide_type": "slide"
      }
     },
     "outputs": [
      {
       "output_type": "stream",
       "stream": "stdout",
       "text": [
        "2\n"
       ]
      },
      {
       "metadata": {},
       "output_type": "pyout",
       "prompt_number": 4,
       "text": [
        "'David'"
       ]
      }
     ],
     "prompt_number": 4
    },
    {
     "cell_type": "code",
     "collapsed": false,
     "input": [
      "# OOP and Overloading\n",
      "class MyInteger():\n",
      "    def __init__(self, integer):\n",
      "        print \"constructor\"\n",
      "        self.integer = integer\n",
      "    def __add__(self, integer): # Overloaded '+' operator\n",
      "        if self.integer == 2 and integer == 2:\n",
      "            return 5\n",
      "        else:\n",
      "            return self.integer + integer\n",
      "\n",
      "a = MyInteger(3)\n",
      "print a+5"
     ],
     "language": "python",
     "metadata": {
      "slideshow": {
       "slide_type": "slide"
      }
     },
     "outputs": [
      {
       "output_type": "stream",
       "stream": "stdout",
       "text": [
        "constructor\n",
        "8\n"
       ]
      }
     ],
     "prompt_number": 47
    },
    {
     "cell_type": "code",
     "collapsed": false,
     "input": [
      "#Derived Classes\n",
      "class Vehicle():\n",
      "    def my_own(self): return True\n",
      "    \n",
      "class Bicycle(Vehicle):\n",
      "    def __init__(self, color): self.color = color\n",
      "    def has_wheels(self): return True\n",
      "\n",
      "class rent_bike(Bicycle):\n",
      "    def my_own(self): return False\n",
      "    \n",
      "Ubike = rent_bike('yellow')\n",
      "Ubike.my_own()\n"
     ],
     "language": "python",
     "metadata": {
      "slideshow": {
       "slide_type": "slide"
      }
     },
     "outputs": [
      {
       "metadata": {},
       "output_type": "pyout",
       "prompt_number": 56,
       "text": [
        "False"
       ]
      }
     ],
     "prompt_number": 56
    },
    {
     "cell_type": "heading",
     "level": 3,
     "metadata": {
      "slideshow": {
       "slide_type": "slide"
      }
     },
     "source": [
      "\u6a94\u6848\u8655\u7406"
     ]
    },
    {
     "cell_type": "code",
     "collapsed": false,
     "input": [
      "#Writing Hello World Into Txt\n",
      "fid = open('test.txt', 'w')\n",
      "fid.write('Hello\\nWorld')\n",
      "fid.close()"
     ],
     "language": "python",
     "metadata": {
      "slideshow": {
       "slide_type": "slide"
      }
     },
     "outputs": [],
     "prompt_number": 57
    },
    {
     "cell_type": "code",
     "collapsed": false,
     "input": [
      "#Load Hello World\n",
      "fid = open('test.txt', 'r')\n",
      "for line in fid: # Using file identifier as iterator\n",
      "    print(\"Line: \" + line.strip())\n",
      "fid.close()"
     ],
     "language": "python",
     "metadata": {
      "slideshow": {
       "slide_type": "slide"
      }
     },
     "outputs": [
      {
       "output_type": "stream",
       "stream": "stdout",
       "text": [
        "Line: Hello\n",
        "Line: World\n"
       ]
      }
     ],
     "prompt_number": 58
    },
    {
     "cell_type": "code",
     "collapsed": false,
     "input": [
      "fid = open('test.txt', 'r')\n",
      "s = fid.read() # Read the entire file\n",
      "fid.close()\n",
      "print \"line\",s"
     ],
     "language": "python",
     "metadata": {
      "slideshow": {
       "slide_type": "slide"
      }
     },
     "outputs": [
      {
       "output_type": "stream",
       "stream": "stdout",
       "text": [
        "line Hello\n",
        "World\n"
       ]
      }
     ],
     "prompt_number": 61
    },
    {
     "cell_type": "code",
     "collapsed": false,
     "input": [
      "#Line Counting\n",
      "fid = open('test.txt')\n",
      "k = 0\n",
      "for line in fid:\n",
      "    k = k + 1\n",
      "print k\n",
      "fid.close()"
     ],
     "language": "python",
     "metadata": {
      "slideshow": {
       "slide_type": "slide"
      }
     },
     "outputs": [
      {
       "ename": "IOError",
       "evalue": "[Errno 2] No such file or directory: 'test.txt'",
       "output_type": "pyerr",
       "traceback": [
        "\u001b[1;31m---------------------------------------------------------------------------\u001b[0m\n\u001b[1;31mIOError\u001b[0m                                   Traceback (most recent call last)",
        "\u001b[1;32m<ipython-input-126-78be54fc5442>\u001b[0m in \u001b[0;36m<module>\u001b[1;34m()\u001b[0m\n\u001b[0;32m      1\u001b[0m \u001b[1;31m#Line Counting\u001b[0m\u001b[1;33m\u001b[0m\u001b[1;33m\u001b[0m\u001b[0m\n\u001b[1;32m----> 2\u001b[1;33m \u001b[0mfid\u001b[0m \u001b[1;33m=\u001b[0m \u001b[0mopen\u001b[0m\u001b[1;33m(\u001b[0m\u001b[1;34m'test.txt'\u001b[0m\u001b[1;33m)\u001b[0m\u001b[1;33m\u001b[0m\u001b[0m\n\u001b[0m\u001b[0;32m      3\u001b[0m \u001b[0mk\u001b[0m \u001b[1;33m=\u001b[0m \u001b[1;36m0\u001b[0m\u001b[1;33m\u001b[0m\u001b[0m\n\u001b[0;32m      4\u001b[0m \u001b[1;32mfor\u001b[0m \u001b[0mline\u001b[0m \u001b[1;32min\u001b[0m \u001b[0mfid\u001b[0m\u001b[1;33m:\u001b[0m\u001b[1;33m\u001b[0m\u001b[0m\n\u001b[0;32m      5\u001b[0m     \u001b[0mk\u001b[0m \u001b[1;33m=\u001b[0m \u001b[0mk\u001b[0m \u001b[1;33m+\u001b[0m \u001b[1;36m1\u001b[0m\u001b[1;33m\u001b[0m\u001b[0m\n",
        "\u001b[1;31mIOError\u001b[0m: [Errno 2] No such file or directory: 'test.txt'"
       ]
      }
     ],
     "prompt_number": 126
    },
    {
     "cell_type": "code",
     "collapsed": false,
     "input": [
      "print len([ line for line in open('test.txt')])"
     ],
     "language": "python",
     "metadata": {
      "slideshow": {
       "slide_type": "slide"
      }
     },
     "outputs": [
      {
       "output_type": "stream",
       "stream": "stdout",
       "text": [
        "2\n"
       ]
      }
     ],
     "prompt_number": 64
    },
    {
     "cell_type": "heading",
     "level": 3,
     "metadata": {
      "slideshow": {
       "slide_type": "slide"
      }
     },
     "source": [
      "\u4f8b\u5916\u8655\u7406"
     ]
    },
    {
     "cell_type": "code",
     "collapsed": false,
     "input": [
      "try:\n",
      "    [ int(line) for line in open('test.txt') ] #You may remove int to see what happen\n",
      "except IOError, message:\n",
      "    print('An IO error', message)\n",
      "except ValueError, message:\n",
      "    print('A value error', message)\n",
      "else:\n",
      "    print('Succes')"
     ],
     "language": "python",
     "metadata": {
      "slideshow": {
       "slide_type": "slide"
      }
     },
     "outputs": [
      {
       "output_type": "stream",
       "stream": "stdout",
       "text": [
        "Succes\n"
       ]
      }
     ],
     "prompt_number": 67
    },
    {
     "cell_type": "code",
     "collapsed": false,
     "input": [
      "def mydivide(a, b):\n",
      "    try:\n",
      "        return float(a)/b\n",
      "    except ZeroDivisionError:\n",
      "        return float('nan')\n",
      "    except Exception, e:\n",
      "        print 'Error:', e\n",
      "        \n",
      "#print(1./0)\n",
      "mydivide(1,0)\n"
     ],
     "language": "python",
     "metadata": {
      "slideshow": {
       "slide_type": "slide"
      }
     },
     "outputs": [
      {
       "metadata": {},
       "output_type": "pyout",
       "prompt_number": 75,
       "text": [
        "nan"
       ]
      }
     ],
     "prompt_number": 75
    }
   ],
   "metadata": {}
  }
 ]
}