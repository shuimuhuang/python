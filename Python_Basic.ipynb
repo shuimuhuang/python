{
 "metadata": {
  "name": "",
  "signature": "sha256:c96f2cb3ad08e153062c714f724c93b05afb4a165f60ffbc04fcdc9b42721777"
 },
 "nbformat": 3,
 "nbformat_minor": 0,
 "worksheets": [
  {
   "cells": [
    {
     "cell_type": "code",
     "collapsed": false,
     "input": [
      "#!/usr/bin/python\n",
      "import sys\n",
      "\n",
      "# This is a single line comment\n",
      "def main():\n",
      "    print 'Hello World'\n",
      "\n",
      "if __name__ == '__main__':\n",
      "    main()\n"
     ],
     "language": "python",
     "metadata": {},
     "outputs": [
      {
       "output_type": "stream",
       "stream": "stdout",
       "text": [
        "Hello World\n"
       ]
      }
     ],
     "prompt_number": 1
    },
    {
     "cell_type": "code",
     "collapsed": false,
     "input": [
      "name = input(\"What is your name? \")\n",
      "if name == \"David\":\n",
      "    print (\"Nice to mee you! \" + name)\n",
      "else:\n",
      "    print (\"Your name again?\")\n"
     ],
     "language": "python",
     "metadata": {},
     "outputs": [
      {
       "name": "stdout",
       "output_type": "stream",
       "stream": "stdout",
       "text": [
        "What is your name? \"David\"\n"
       ]
      },
      {
       "output_type": "stream",
       "stream": "stdout",
       "text": [
        "Nice to mee you! David\n"
       ]
      }
     ],
     "prompt_number": 2
    },
    {
     "cell_type": "code",
     "collapsed": false,
     "input": [
      "name = input(\"What is your name? \")\n",
      "if name == \"David\":\n",
      "    print (\"Nice to mee you! {}\".format(name))\n",
      "else:\n",
      "    print (\"Your name again? Is it %s ?\" %(name))\n"
     ],
     "language": "python",
     "metadata": {},
     "outputs": [
      {
       "name": "stdout",
       "output_type": "stream",
       "stream": "stdout",
       "text": [
        "What is your name? \"David\"\n"
       ]
      },
      {
       "output_type": "stream",
       "stream": "stdout",
       "text": [
        "Nice to mee you! David\n"
       ]
      }
     ],
     "prompt_number": 3
    },
    {
     "cell_type": "code",
     "collapsed": false,
     "input": [
      "times = input(\"Repeat Times: \")\n",
      "print(\"Qoo \" * int(times))\n",
      "\n"
     ],
     "language": "python",
     "metadata": {},
     "outputs": []
    },
    {
     "cell_type": "code",
     "collapsed": false,
     "input": [
      "dividend = input(\"Dividend: \")\n",
      "divisor = input(\"Divisor: \")\n",
      "\n",
      "try:\n",
      "    print float(dividend) / float(divisor)\n",
      "except ZeroDivisionError as detail:\n",
      "    print \"ZeroDvisionError\", detail"
     ],
     "language": "python",
     "metadata": {},
     "outputs": [
      {
       "name": "stdout",
       "output_type": "stream",
       "stream": "stdout",
       "text": [
        "Dividend: 3\n"
       ]
      },
      {
       "name": "stdout",
       "output_type": "stream",
       "stream": "stdout",
       "text": [
        "Divisor: \"hello\"\n"
       ]
      },
      {
       "ename": "ValueError",
       "evalue": "could not convert string to float: hello",
       "output_type": "pyerr",
       "traceback": [
        "\u001b[1;31m---------------------------------------------------------------------------\u001b[0m\n\u001b[1;31mValueError\u001b[0m                                Traceback (most recent call last)",
        "\u001b[1;32m<ipython-input-17-5497db6af413>\u001b[0m in \u001b[0;36m<module>\u001b[1;34m()\u001b[0m\n\u001b[0;32m      3\u001b[0m \u001b[1;33m\u001b[0m\u001b[0m\n\u001b[0;32m      4\u001b[0m \u001b[1;32mtry\u001b[0m\u001b[1;33m:\u001b[0m\u001b[1;33m\u001b[0m\u001b[0m\n\u001b[1;32m----> 5\u001b[1;33m     \u001b[1;32mprint\u001b[0m \u001b[0mfloat\u001b[0m\u001b[1;33m(\u001b[0m\u001b[0mdividend\u001b[0m\u001b[1;33m)\u001b[0m \u001b[1;33m/\u001b[0m \u001b[0mfloat\u001b[0m\u001b[1;33m(\u001b[0m\u001b[0mdivisor\u001b[0m\u001b[1;33m)\u001b[0m\u001b[1;33m\u001b[0m\u001b[0m\n\u001b[0m\u001b[0;32m      6\u001b[0m \u001b[1;32mexcept\u001b[0m \u001b[0mZeroDivisionError\u001b[0m \u001b[1;32mas\u001b[0m \u001b[0mdetail\u001b[0m\u001b[1;33m:\u001b[0m\u001b[1;33m\u001b[0m\u001b[0m\n\u001b[0;32m      7\u001b[0m     \u001b[1;32mprint\u001b[0m \u001b[1;34m\"ZeroDvisionError\"\u001b[0m\u001b[1;33m,\u001b[0m \u001b[0mdetail\u001b[0m\u001b[1;33m\u001b[0m\u001b[0m\n",
        "\u001b[1;31mValueError\u001b[0m: could not convert string to float: hello"
       ]
      }
     ],
     "prompt_number": 17
    },
    {
     "cell_type": "code",
     "collapsed": false,
     "input": [
      "dividend = input(\"Dividend: \")\n",
      "divisor = input(\"Divisor: \")\n",
      "\n",
      "try:\n",
      "    print float(dividend) / float(divisor)\n",
      "except:\n",
      "    print \"Error\"\n",
      "\n"
     ],
     "language": "python",
     "metadata": {},
     "outputs": [
      {
       "name": "stdout",
       "output_type": "stream",
       "stream": "stdout",
       "text": [
        "Dividend: 4\n"
       ]
      },
      {
       "name": "stdout",
       "output_type": "stream",
       "stream": "stdout",
       "text": [
        "Divisor: \"hello\"\n"
       ]
      },
      {
       "output_type": "stream",
       "stream": "stdout",
       "text": [
        "Error\n"
       ]
      }
     ],
     "prompt_number": 16
    },
    {
     "cell_type": "code",
     "collapsed": false,
     "input": [
      "a = '''this is a \n",
      "\"book\"'''\n",
      "a"
     ],
     "language": "python",
     "metadata": {},
     "outputs": [
      {
       "metadata": {},
       "output_type": "pyout",
       "prompt_number": 22,
       "text": [
        "'this is a \\n\"book\"'"
       ]
      }
     ],
     "prompt_number": 22
    },
    {
     "cell_type": "code",
     "collapsed": false,
     "input": [
      "s = 'hello world'\n",
      "#print s[1]  #e\n",
      "#print s[-1] #d\n",
      "#print len(s)  ## 11\n",
      "#print s + ' yoyo'  ## hello world yoyo\n",
      "print s[::-2]"
     ],
     "language": "python",
     "metadata": {},
     "outputs": [
      {
       "output_type": "stream",
       "stream": "stdout",
       "text": [
        "drwolh\n"
       ]
      }
     ],
     "prompt_number": 31
    },
    {
     "cell_type": "code",
     "collapsed": false,
     "input": [
      "\n",
      "# \u5e36\u6709 format \u7684 String \n",
      "raw = '\\n\\t this is a \\t line with format \\t\\n'\n",
      "print raw   \n",
      "\n",
      "# \u4f7f\u7528 r \u53d6\u5f97raw string\n",
      "raw = r'\\n\\t this is a \\t line with format \\t\\n'\n",
      "print raw   \n",
      "\n",
      "# \u4f7f\u7528 repr \u53d6\u5f97string \u4e2d\u7684\u8868\u793a\n",
      "raw = repr('\\n\\t this is a \\t line with format \\t\\n')\n",
      "print raw \n"
     ],
     "language": "python",
     "metadata": {},
     "outputs": [
      {
       "output_type": "stream",
       "stream": "stdout",
       "text": [
        "\n",
        "\t this is a \t line with format \t\n",
        "\n",
        "\\n\\t this is a \\t line with format \\t\\n\n",
        "'\\n\\t this is a \\t line with format \\t\\n'\n"
       ]
      }
     ],
     "prompt_number": 12
    },
    {
     "cell_type": "code",
     "collapsed": false,
     "input": [
      "a = 'Qoo loves OOP'\n",
      "a.split(), \\\n",
      "a.upper(), \\\n",
      "a.title(),\n",
      "\n",
      "#a.split()[1]\n",
      "\n",
      "a = 'abcdedcba'\n",
      "if  a == a[::-1]:\n",
      "    print \"palindrom\""
     ],
     "language": "python",
     "metadata": {},
     "outputs": [
      {
       "output_type": "stream",
       "stream": "stdout",
       "text": [
        "palindrom\n"
       ]
      }
     ],
     "prompt_number": 38
    },
    {
     "cell_type": "code",
     "collapsed": false,
     "input": [
      "a = \"adfdaf d  df sdfjsdjfosdjfodf   s                  sdfjsdjfosdfj sdojf       \"\n",
      "''.join(a.split())"
     ],
     "language": "python",
     "metadata": {},
     "outputs": [
      {
       "metadata": {},
       "output_type": "pyout",
       "prompt_number": 40,
       "text": [
        "'adfdafddfsdfjsdjfosdjfodfssdfjsdjfosdfjsdojf'"
       ]
      }
     ],
     "prompt_number": 40
    },
    {
     "cell_type": "code",
     "collapsed": false,
     "input": [
      "import string\n",
      "a = 'Qoo loves OOP'\n",
      "string.join(a.split(), '-') # 'Qoo-loves-OOP'\n",
      "\n",
      "a = 'Qoo loves OOP'\n",
      "'-'.join(a.split())\n"
     ],
     "language": "python",
     "metadata": {},
     "outputs": [
      {
       "metadata": {},
       "output_type": "pyout",
       "prompt_number": 14,
       "text": [
        "'Qoo-loves-OOP'"
       ]
      }
     ],
     "prompt_number": 14
    },
    {
     "cell_type": "code",
     "collapsed": false,
     "input": [
      "s = 'hello'\n",
      "s[1:4]   , \\\n",
      "s[1:]    , \\\n",
      "s[:]     , \\\n",
      "s[1:100] , \\\n"
     ],
     "language": "python",
     "metadata": {},
     "outputs": [
      {
       "metadata": {},
       "output_type": "pyout",
       "prompt_number": 15,
       "text": [
        "('ell', 'ello', 'hello', 'ello')"
       ]
      }
     ],
     "prompt_number": 15
    },
    {
     "cell_type": "code",
     "collapsed": false,
     "input": [
      "s = 'hello'\n",
      "s[-1] , \\\n",
      "s[-4] , \\\n",
      "s[:-3] , \\\n",
      "s[-3:] , \\\n",
      "\n",
      "('o', 'e', 'he', 'llo')\n"
     ],
     "language": "python",
     "metadata": {},
     "outputs": [
      {
       "metadata": {},
       "output_type": "pyout",
       "prompt_number": 16,
       "text": [
        "('o', 'e', 'he', 'llo')"
       ]
      }
     ],
     "prompt_number": 16
    },
    {
     "cell_type": "code",
     "collapsed": false,
     "input": [
      "# -*- coding: utf-8 -*-\n",
      "unistring = u'Handling \u4e2d\u6587\u5b57\u4e32'\n",
      "print type(unistring), len(unistring)\n",
      "print unistring.encode('big5')\n",
      "print unistring.encode('utf-8')\n",
      "print unistring.encode('utf-8').decode('utf-8')\n",
      "print unicode(unistring.encode('utf-8'), 'utf-8') \n"
     ],
     "language": "python",
     "metadata": {},
     "outputs": [
      {
       "output_type": "stream",
       "stream": "stdout",
       "text": [
        "<type 'unicode'> 13\n",
        "Handling \ufffd\ufffd\ufffd\ufffdr\ufffd\ufffd"
       ]
      },
      {
       "output_type": "stream",
       "stream": "stdout",
       "text": [
        "\n",
        "Handling \u4e2d\u6587\u5b57\u4e32\n",
        "Handling \u4e2d\u6587\u5b57\u4e32\n",
        "Handling \u4e2d\u6587\u5b57\u4e32\n"
       ]
      }
     ],
     "prompt_number": 17
    },
    {
     "cell_type": "code",
     "collapsed": false,
     "input": [
      "#List \u53ef\u4ee5\u88dd\u8f09\u4e0d\u540c\u985e\u578b\u5143\u7d20\n",
      "print ['asap', 3]\n",
      "print list(\"word\"), \n",
      "print [['list'], ['of', 'lists']]\n",
      "print list(('a', 1))\n",
      "\n",
      "a = ['heterogeneous', 3]\n",
      "a[1] + 5 \n"
     ],
     "language": "python",
     "metadata": {},
     "outputs": [
      {
       "output_type": "stream",
       "stream": "stdout",
       "text": [
        "['asap', 3]\n",
        "['w', 'o', 'r', 'd'] [['list'], ['of', 'lists']]\n",
        "['a', 1]\n"
       ]
      },
      {
       "metadata": {},
       "output_type": "pyout",
       "prompt_number": 18,
       "text": [
        "8"
       ]
      }
     ],
     "prompt_number": 18
    },
    {
     "cell_type": "code",
     "collapsed": false,
     "input": [
      "a = [5, 6, 7, \u2018s\u2019] # a = [5 6 7 \u2018s\u2019] \n",
      "print a[0] # 5\n",
      "print a[2:4] # [7, \u2018s\u2019] \n",
      "print a[-1] # \u2018s\u2019 \n",
      "print a[-2] # 7\n",
      "print a[2:] # [7, \u2018s\u2019]\n",
      "print a[::2] # [5, 7]\n",
      "print a[::-1] # [\u2018s\u2019, 7, 6, 5]\n",
      "print len(a) # 4\n",
      "print [min(a), max(a)] # [5, \u2018s\u2019]\n"
     ],
     "language": "python",
     "metadata": {},
     "outputs": [
      {
       "ename": "SyntaxError",
       "evalue": "invalid syntax (<ipython-input-19-55647ebdbf6c>, line 1)",
       "output_type": "pyerr",
       "traceback": [
        "\u001b[1;36m  File \u001b[1;32m\"<ipython-input-19-55647ebdbf6c>\"\u001b[1;36m, line \u001b[1;32m1\u001b[0m\n\u001b[1;33m    a = [5, 6, 7, \u2018s\u2019] # a = [5 6 7 \u2018s\u2019]\u001b[0m\n\u001b[1;37m                  ^\u001b[0m\n\u001b[1;31mSyntaxError\u001b[0m\u001b[1;31m:\u001b[0m invalid syntax\n"
       ]
      }
     ],
     "prompt_number": 19
    },
    {
     "cell_type": "code",
     "collapsed": false,
     "input": [
      "a = [5, 6, 7, 8]\n",
      "a.pop() # a = [5, 6, 7]\n",
      "a.append(2) # a = [5, 6, 7, 2]\n",
      "a.sort() # a = [2, 5, 6, 7]\n",
      "a.reverse() # a = [7, 6, 5, 2]\n",
      "a = 'helo there this is David, Marry and Lisa'\n",
      "#a.sort()\n",
      "#b = ''.join(a)\n",
      "print 'Mark' in a"
     ],
     "language": "python",
     "metadata": {},
     "outputs": [
      {
       "output_type": "stream",
       "stream": "stdout",
       "text": [
        "False\n"
       ]
      }
     ],
     "prompt_number": 52
    },
    {
     "cell_type": "code",
     "collapsed": false,
     "input": [
      "a = [1, 2, 3]\n",
      "b = a\n",
      "a[1] = 2000\n",
      "b\n"
     ],
     "language": "python",
     "metadata": {},
     "outputs": [
      {
       "metadata": {},
       "output_type": "pyout",
       "prompt_number": 53,
       "text": [
        "[1, 2000, 3]"
       ]
      }
     ],
     "prompt_number": 53
    },
    {
     "cell_type": "code",
     "collapsed": false,
     "input": [
      "a = [1, 2, 3]\n",
      "\n",
      "#List \n",
      "b = a[:]\n",
      "print b\n",
      "\n",
      "#List\n",
      "b = list(a)\n",
      "print b\n",
      "\n",
      "#Extent\n",
      "b = [] \n",
      "b.extend(a)\n",
      "b= a\n",
      "a[1] = 999\n",
      "print b\n"
     ],
     "language": "python",
     "metadata": {},
     "outputs": [
      {
       "output_type": "stream",
       "stream": "stdout",
       "text": [
        "[1, 2, 3]\n",
        "[1, 2, 3]\n",
        "[1, 999, 3]\n"
       ]
      }
     ],
     "prompt_number": 55
    },
    {
     "cell_type": "code",
     "collapsed": false,
     "input": [
      "#Iteration\n",
      "b = []\n",
      "for n in range(len(a)):\n",
      "    b.append(a[n])\n",
      "print b\n",
      "\n",
      "#Foreach\n",
      "b = [ e for e in a ]\n",
      "b\n",
      "print b\n",
      "\n"
     ],
     "language": "python",
     "metadata": {},
     "outputs": [
      {
       "output_type": "stream",
       "stream": "stdout",
       "text": [
        "[1, 2, 3]\n",
        "[1, 2, 3]\n"
       ]
      }
     ],
     "prompt_number": 23
    },
    {
     "cell_type": "code",
     "collapsed": false,
     "input": [
      "a = [1, 2, 3]\n",
      "import copy\n",
      "aa = copy.deepcopy(a) # Deep Copy\n",
      "a[1] = 2000\n",
      "print aa\n"
     ],
     "language": "python",
     "metadata": {},
     "outputs": [
      {
       "output_type": "stream",
       "stream": "stdout",
       "text": [
        "[1, 2, 3]\n"
       ]
      }
     ],
     "prompt_number": 24
    },
    {
     "cell_type": "code",
     "collapsed": false,
     "input": [
      "nums = [1, 2, 3, 4]\n",
      "squares = [ n * n for n in nums ]   \n",
      "#print squares\n",
      "\n",
      "a = []\n",
      "for n in nums:\n",
      "    a.append(n*n)\n",
      "#print a\n"
     ],
     "language": "python",
     "metadata": {},
     "outputs": [
      {
       "output_type": "stream",
       "stream": "stdout",
       "text": [
        "[1, 4, 9, 16]\n",
        "[1, 4, 9, 16]\n"
       ]
      }
     ],
     "prompt_number": 57
    },
    {
     "cell_type": "code",
     "collapsed": false,
     "input": [
      "## \u7be9\u9078 values <= 2\n",
      "nums = [2, 8, 1, 6]\n",
      "small = [ n for n in nums if n <= 2 ]  ## [2, 1]\n",
      "print small\n",
      "\n",
      "a = []\n",
      "for n in nums:\n",
      "    if n <=2:\n",
      "        a.append(n)\n",
      "print a\n",
      "\n",
      "\n",
      "## \u7be9\u9078 \u5305\u542b 'a' \u7684 fruits, \u4e26\u8f49\u63db\u70ba\u5927\u5beb\n",
      "fruits = ['apple', 'cherry', 'bannana', 'lemon']\n",
      "afruits = [ s.upper() for s in fruits if 'a' in s ]\n",
      "print afruits\n",
      "\n",
      "a= []\n",
      "for s in fruits:\n",
      "    if 'a' in s:\n",
      "        a.append(s.upper())\n",
      "print a\n",
      "\n"
     ],
     "language": "python",
     "metadata": {},
     "outputs": [
      {
       "output_type": "stream",
       "stream": "stdout",
       "text": [
        "[2, 1]\n",
        "[2, 1]\n",
        "['APPLE', 'BANNANA']\n",
        "['APPLE', 'BANNANA']\n"
       ]
      }
     ],
     "prompt_number": 61
    },
    {
     "cell_type": "code",
     "collapsed": false,
     "input": [
      "contact_list = []\n",
      "while True:\n",
      "    contact = input(\"Add Contact: \")\n",
      "    if contact == 'Done':\n",
      "        break\n",
      "    else:\n",
      "        contact_list.append(contact)\n",
      "        print \"You have %d contacts\" % (len(contact_list))\n",
      "print \"Your Contacts: %s\"%(contact_list)\n"
     ],
     "language": "python",
     "metadata": {},
     "outputs": [
      {
       "name": "stdout",
       "output_type": "stream",
       "stream": "stdout",
       "text": [
        "Add Contact: \"Marry\"\n"
       ]
      },
      {
       "output_type": "stream",
       "stream": "stdout",
       "text": [
        "You have 1 contacts\n"
       ]
      },
      {
       "name": "stdout",
       "output_type": "stream",
       "stream": "stdout",
       "text": [
        "Add Contact: \"Lisa\"\n"
       ]
      },
      {
       "output_type": "stream",
       "stream": "stdout",
       "text": [
        "You have 2 contacts\n"
       ]
      },
      {
       "name": "stdout",
       "output_type": "stream",
       "stream": "stdout",
       "text": [
        "Add Contact: \"Alice\"\n"
       ]
      },
      {
       "output_type": "stream",
       "stream": "stdout",
       "text": [
        "You have 3 contacts\n"
       ]
      },
      {
       "name": "stdout",
       "output_type": "stream",
       "stream": "stdout",
       "text": [
        "Add Contact: \"Done\"\n"
       ]
      },
      {
       "output_type": "stream",
       "stream": "stdout",
       "text": [
        "Your Contacts: ['Marry', 'Lisa', 'Alice']\n"
       ]
      }
     ],
     "prompt_number": 62
    },
    {
     "cell_type": "code",
     "collapsed": false,
     "input": [
      "#if - else\n",
      "a = 9\n",
      "b = 8\n",
      "for i in range(1,10):\n",
      "    if i == a:\n",
      "        print(str(a) + ' found!')\n",
      "        break\n",
      "    elif i == b:\n",
      "        print str(b) + ' found'\n",
      "    else:\n",
      "        print(str(a) + ' was not in the list')\n"
     ],
     "language": "python",
     "metadata": {},
     "outputs": [
      {
       "output_type": "stream",
       "stream": "stdout",
       "text": [
        "9 was not in the list\n",
        "9 was not in the list\n",
        "9 was not in the list\n",
        "9 was not in the list\n",
        "9 was not in the list\n",
        "9 was not in the list\n",
        "9 was not in the list\n",
        "8 found\n",
        "9 found!\n"
       ]
      }
     ],
     "prompt_number": 63
    },
    {
     "cell_type": "code",
     "collapsed": false,
     "input": [
      "i =0\n",
      "sum = 0 \n",
      "while(i < 101):\n",
      "    sum += i\n",
      "    i +=1\n",
      "print sum\n"
     ],
     "language": "python",
     "metadata": {},
     "outputs": [
      {
       "output_type": "stream",
       "stream": "stdout",
       "text": [
        "5050\n"
       ]
      }
     ],
     "prompt_number": 30
    },
    {
     "cell_type": "code",
     "collapsed": false,
     "input": [
      "def addNum(a, b):#Define Function\n",
      "    return a+b #Return function \n",
      "\n",
      "print addNum(1,4)\n"
     ],
     "language": "python",
     "metadata": {},
     "outputs": [
      {
       "output_type": "stream",
       "stream": "stdout",
       "text": [
        "5\n"
       ]
      }
     ],
     "prompt_number": 31
    },
    {
     "cell_type": "code",
     "collapsed": false,
     "input": [
      "def myunion(x, *args):\n",
      "    u = set(x)\n",
      "    for y in args:\n",
      "        u = u.union(set(y))\n",
      "    return u\n",
      "\n",
      "myunion([1])\n",
      "myunion([1], [1, 2, 4], [3, 4])\n"
     ],
     "language": "python",
     "metadata": {},
     "outputs": [
      {
       "metadata": {},
       "output_type": "pyout",
       "prompt_number": 66,
       "text": [
        "{1, 2, 3, 4}"
       ]
      }
     ],
     "prompt_number": 66
    },
    {
     "cell_type": "code",
     "collapsed": false,
     "input": [
      "#unknown named arguments\n",
      "def my_key_union(x, **kwargs):\n",
      "    union = set(x)\n",
      "    for key, value in kwargs.items():\n",
      "        if value:\n",
      "            union.add(key)\n",
      "    return union\n",
      "\n",
      "print my_key_union(['the'], stop=True, halt=False)\n",
      "\n"
     ],
     "language": "python",
     "metadata": {},
     "outputs": [
      {
       "output_type": "stream",
       "stream": "stdout",
       "text": [
        "set(['the', 'stop'])\n"
       ]
      }
     ],
     "prompt_number": 67
    },
    {
     "cell_type": "code",
     "collapsed": false,
     "input": [
      "set(), set([1, 2]), set([2, 1]),\\\n",
      "set((2, 1)), set(range(0,5)) - set(range(4,10)),\\\n",
      "set([1, 2]) | set([3, 4])\n"
     ],
     "language": "python",
     "metadata": {},
     "outputs": [
      {
       "metadata": {},
       "output_type": "pyout",
       "prompt_number": 35,
       "text": [
        "(set(), {1, 2}, {1, 2}, {1, 2}, {0, 1, 2, 3}, {1, 2, 3, 4})"
       ]
      }
     ],
     "prompt_number": 35
    },
    {
     "cell_type": "code",
     "collapsed": false,
     "input": [
      "import math, sys # Importing modules.\n",
      "\n",
      "def formatresult(res): # Define function. Remember \":\"\n",
      "    \"\"\"This is the documentation for a function.\"\"\"\n",
      "    return \"The result is %f\" % res # Percentage for formating\n",
      "\n",
      "if len(sys.argv) < 3: # Conditionals should be indended\n",
      "    print(\"Too few input argument\")\n",
      "elif len(sys.argv) > 10: # Not 'elsif' or 'elseif'\n",
      "    print(\"Too many input argument\")\n",
      "else:\n",
      "    res = 0\n",
      "    for n in range(1, len(sys.argv)): \n",
      "        try: res += float(sys.argv[n]) \n",
      "        except: pass # One-liner\n",
      "    print(formatresult(res))\n"
     ],
     "language": "python",
     "metadata": {},
     "outputs": [
      {
       "output_type": "stream",
       "stream": "stdout",
       "text": [
        "The result is 0.000000\n"
       ]
      }
     ],
     "prompt_number": 36
    },
    {
     "cell_type": "code",
     "collapsed": false,
     "input": [
      "import math\n",
      "a = math.ceil(3.6)\n",
      "print a \n"
     ],
     "language": "python",
     "metadata": {},
     "outputs": [
      {
       "output_type": "stream",
       "stream": "stdout",
       "text": [
        "4.0\n"
       ]
      }
     ],
     "prompt_number": 37
    },
    {
     "cell_type": "code",
     "collapsed": false,
     "input": [
      "import math #Importing Modules\n",
      "print math #Print Content\n",
      "\n",
      "import sys #Importing Modules\n",
      "print(sys.argv) #Print Argument\n",
      "\n",
      "print range(1,len(sys.argv))\n"
     ],
     "language": "python",
     "metadata": {},
     "outputs": [
      {
       "output_type": "stream",
       "stream": "stdout",
       "text": [
        "<module 'math' (built-in)>\n",
        "['-c', '-f', '/home/ubuntu/.ipython/profile_default/security/kernel-9895557a-a975-4be7-96ad-6413903059dd.json', \"--IPKernelApp.parent_appname='ipython-notebook'\", '--profile-dir', '/home/ubuntu/.ipython/profile_default', '--parent=1']\n",
        "[1, 2, 3, 4, 5, 6]\n"
       ]
      }
     ],
     "prompt_number": 38
    },
    {
     "cell_type": "code",
     "collapsed": false,
     "input": [
      "a = \"\"\"\n",
      "<html>\n",
      "\\n\n",
      "\\n\n",
      "<body>\n",
      "adfdafdfd\n",
      "</body>\n",
      "</html>\n",
      "\"\"\"\n",
      "print ''.join(a.split())"
     ],
     "language": "python",
     "metadata": {},
     "outputs": [
      {
       "output_type": "stream",
       "stream": "stdout",
       "text": [
        "<html><body>adfdafdfd</body></html>\n"
       ]
      }
     ],
     "prompt_number": 86
    },
    {
     "cell_type": "code",
     "collapsed": false,
     "input": [
      "\n",
      "def add_contact(name):\n",
      "    contact_list.append(name)\n",
      "    print \"You have %d contacts\" % (len(contact_list))\n",
      "\n",
      "def get_contact():\t\n",
      "    print \"Your Contacts: %s\"%(contact_list)\n",
      "\n",
      "contact_list = []\n",
      "\n",
      "def main():    \n",
      "    while True:\n",
      "        contact = input(\"Add Contact: \")\n",
      "        if contact == 'Done':\n",
      "   \t     break\n",
      "        else:\n",
      "   \t     add_contact(contact)\n",
      "    get_contact()\n",
      "\n",
      "if __name__ == \"__main__\":\n",
      "    main()\n"
     ],
     "language": "python",
     "metadata": {},
     "outputs": [
      {
       "ename": "KeyboardInterrupt",
       "evalue": "",
       "output_type": "pyerr",
       "traceback": [
        "\u001b[1;31m---------------------------------------------------------------------------\u001b[0m\n\u001b[1;31mKeyboardInterrupt\u001b[0m                         Traceback (most recent call last)",
        "\u001b[1;32m<ipython-input-78-e48d83646b4c>\u001b[0m in \u001b[0;36m<module>\u001b[1;34m()\u001b[0m\n\u001b[0;32m     19\u001b[0m \u001b[1;33m\u001b[0m\u001b[0m\n\u001b[0;32m     20\u001b[0m \u001b[1;32mif\u001b[0m \u001b[0m__name__\u001b[0m \u001b[1;33m==\u001b[0m \u001b[1;34m\"__main__\"\u001b[0m\u001b[1;33m:\u001b[0m\u001b[1;33m\u001b[0m\u001b[0m\n\u001b[1;32m---> 21\u001b[1;33m     \u001b[0mmain\u001b[0m\u001b[1;33m(\u001b[0m\u001b[1;33m)\u001b[0m\u001b[1;33m\u001b[0m\u001b[0m\n\u001b[0m",
        "\u001b[1;32m<ipython-input-78-e48d83646b4c>\u001b[0m in \u001b[0;36mmain\u001b[1;34m()\u001b[0m\n\u001b[0;32m     11\u001b[0m \u001b[1;32mdef\u001b[0m \u001b[0mmain\u001b[0m\u001b[1;33m(\u001b[0m\u001b[1;33m)\u001b[0m\u001b[1;33m:\u001b[0m\u001b[1;33m\u001b[0m\u001b[0m\n\u001b[0;32m     12\u001b[0m     \u001b[1;32mwhile\u001b[0m \u001b[0mTrue\u001b[0m\u001b[1;33m:\u001b[0m\u001b[1;33m\u001b[0m\u001b[0m\n\u001b[1;32m---> 13\u001b[1;33m         \u001b[0mcontact\u001b[0m \u001b[1;33m=\u001b[0m \u001b[0minput\u001b[0m\u001b[1;33m(\u001b[0m\u001b[1;34m\"Add Contact: \"\u001b[0m\u001b[1;33m)\u001b[0m\u001b[1;33m\u001b[0m\u001b[0m\n\u001b[0m\u001b[0;32m     14\u001b[0m         \u001b[1;32mif\u001b[0m \u001b[0mcontact\u001b[0m \u001b[1;33m==\u001b[0m \u001b[1;34m'Done'\u001b[0m\u001b[1;33m:\u001b[0m\u001b[1;33m\u001b[0m\u001b[0m\n\u001b[0;32m     15\u001b[0m              \u001b[1;32mbreak\u001b[0m\u001b[1;33m\u001b[0m\u001b[0m\n",
        "\u001b[1;32m/usr/local/lib/python2.7/dist-packages/IPython/kernel/zmq/ipkernel.pyc\u001b[0m in \u001b[0;36m<lambda>\u001b[1;34m(prompt)\u001b[0m\n\u001b[0;32m    362\u001b[0m         \u001b[1;32mif\u001b[0m \u001b[0mcontent\u001b[0m\u001b[1;33m.\u001b[0m\u001b[0mget\u001b[0m\u001b[1;33m(\u001b[0m\u001b[1;34m'allow_stdin'\u001b[0m\u001b[1;33m,\u001b[0m \u001b[0mFalse\u001b[0m\u001b[1;33m)\u001b[0m\u001b[1;33m:\u001b[0m\u001b[1;33m\u001b[0m\u001b[0m\n\u001b[0;32m    363\u001b[0m             \u001b[0mraw_input\u001b[0m \u001b[1;33m=\u001b[0m \u001b[1;32mlambda\u001b[0m \u001b[0mprompt\u001b[0m\u001b[1;33m=\u001b[0m\u001b[1;34m''\u001b[0m\u001b[1;33m:\u001b[0m \u001b[0mself\u001b[0m\u001b[1;33m.\u001b[0m\u001b[0m_raw_input\u001b[0m\u001b[1;33m(\u001b[0m\u001b[0mprompt\u001b[0m\u001b[1;33m,\u001b[0m \u001b[0mident\u001b[0m\u001b[1;33m,\u001b[0m \u001b[0mparent\u001b[0m\u001b[1;33m)\u001b[0m\u001b[1;33m\u001b[0m\u001b[0m\n\u001b[1;32m--> 364\u001b[1;33m             \u001b[0minput\u001b[0m \u001b[1;33m=\u001b[0m \u001b[1;32mlambda\u001b[0m \u001b[0mprompt\u001b[0m\u001b[1;33m=\u001b[0m\u001b[1;34m''\u001b[0m\u001b[1;33m:\u001b[0m \u001b[0meval\u001b[0m\u001b[1;33m(\u001b[0m\u001b[0mraw_input\u001b[0m\u001b[1;33m(\u001b[0m\u001b[0mprompt\u001b[0m\u001b[1;33m)\u001b[0m\u001b[1;33m)\u001b[0m\u001b[1;33m\u001b[0m\u001b[0m\n\u001b[0m\u001b[0;32m    365\u001b[0m         \u001b[1;32melse\u001b[0m\u001b[1;33m:\u001b[0m\u001b[1;33m\u001b[0m\u001b[0m\n\u001b[0;32m    366\u001b[0m             \u001b[0mraw_input\u001b[0m \u001b[1;33m=\u001b[0m \u001b[0minput\u001b[0m \u001b[1;33m=\u001b[0m \u001b[1;32mlambda\u001b[0m \u001b[0mprompt\u001b[0m\u001b[1;33m=\u001b[0m\u001b[1;34m''\u001b[0m \u001b[1;33m:\u001b[0m \u001b[0mself\u001b[0m\u001b[1;33m.\u001b[0m\u001b[0m_no_raw_input\u001b[0m\u001b[1;33m(\u001b[0m\u001b[1;33m)\u001b[0m\u001b[1;33m\u001b[0m\u001b[0m\n",
        "\u001b[1;32m/usr/local/lib/python2.7/dist-packages/IPython/kernel/zmq/ipkernel.pyc\u001b[0m in \u001b[0;36m<lambda>\u001b[1;34m(prompt)\u001b[0m\n\u001b[0;32m    361\u001b[0m         \u001b[1;31m# raw_input in the user namespace.\u001b[0m\u001b[1;33m\u001b[0m\u001b[1;33m\u001b[0m\u001b[0m\n\u001b[0;32m    362\u001b[0m         \u001b[1;32mif\u001b[0m \u001b[0mcontent\u001b[0m\u001b[1;33m.\u001b[0m\u001b[0mget\u001b[0m\u001b[1;33m(\u001b[0m\u001b[1;34m'allow_stdin'\u001b[0m\u001b[1;33m,\u001b[0m \u001b[0mFalse\u001b[0m\u001b[1;33m)\u001b[0m\u001b[1;33m:\u001b[0m\u001b[1;33m\u001b[0m\u001b[0m\n\u001b[1;32m--> 363\u001b[1;33m             \u001b[0mraw_input\u001b[0m \u001b[1;33m=\u001b[0m \u001b[1;32mlambda\u001b[0m \u001b[0mprompt\u001b[0m\u001b[1;33m=\u001b[0m\u001b[1;34m''\u001b[0m\u001b[1;33m:\u001b[0m \u001b[0mself\u001b[0m\u001b[1;33m.\u001b[0m\u001b[0m_raw_input\u001b[0m\u001b[1;33m(\u001b[0m\u001b[0mprompt\u001b[0m\u001b[1;33m,\u001b[0m \u001b[0mident\u001b[0m\u001b[1;33m,\u001b[0m \u001b[0mparent\u001b[0m\u001b[1;33m)\u001b[0m\u001b[1;33m\u001b[0m\u001b[0m\n\u001b[0m\u001b[0;32m    364\u001b[0m             \u001b[0minput\u001b[0m \u001b[1;33m=\u001b[0m \u001b[1;32mlambda\u001b[0m \u001b[0mprompt\u001b[0m\u001b[1;33m=\u001b[0m\u001b[1;34m''\u001b[0m\u001b[1;33m:\u001b[0m \u001b[0meval\u001b[0m\u001b[1;33m(\u001b[0m\u001b[0mraw_input\u001b[0m\u001b[1;33m(\u001b[0m\u001b[0mprompt\u001b[0m\u001b[1;33m)\u001b[0m\u001b[1;33m)\u001b[0m\u001b[1;33m\u001b[0m\u001b[0m\n\u001b[0;32m    365\u001b[0m         \u001b[1;32melse\u001b[0m\u001b[1;33m:\u001b[0m\u001b[1;33m\u001b[0m\u001b[0m\n",
        "\u001b[1;32m/usr/local/lib/python2.7/dist-packages/IPython/kernel/zmq/ipkernel.pyc\u001b[0m in \u001b[0;36m_raw_input\u001b[1;34m(self, prompt, ident, parent)\u001b[0m\n\u001b[0;32m    763\u001b[0m             \u001b[1;32mexcept\u001b[0m \u001b[0mKeyboardInterrupt\u001b[0m\u001b[1;33m:\u001b[0m\u001b[1;33m\u001b[0m\u001b[0m\n\u001b[0;32m    764\u001b[0m                 \u001b[1;31m# re-raise KeyboardInterrupt, to truncate traceback\u001b[0m\u001b[1;33m\u001b[0m\u001b[1;33m\u001b[0m\u001b[0m\n\u001b[1;32m--> 765\u001b[1;33m                 \u001b[1;32mraise\u001b[0m \u001b[0mKeyboardInterrupt\u001b[0m\u001b[1;33m\u001b[0m\u001b[0m\n\u001b[0m\u001b[0;32m    766\u001b[0m             \u001b[1;32melse\u001b[0m\u001b[1;33m:\u001b[0m\u001b[1;33m\u001b[0m\u001b[0m\n\u001b[0;32m    767\u001b[0m                 \u001b[1;32mbreak\u001b[0m\u001b[1;33m\u001b[0m\u001b[0m\n",
        "\u001b[1;31mKeyboardInterrupt\u001b[0m: "
       ]
      }
     ],
     "prompt_number": 78
    },
    {
     "cell_type": "code",
     "collapsed": false,
     "input": [
      "#declare dictionary \n",
      "dic = {'a':str(100), 'b':\"yes\", 'c':str(0.98)} \n",
      "#print dic \n",
      "\n",
      "#get keys in dictionary \n",
      "#print dic.keys() \n",
      "\n",
      "#get values in dictionary \n",
      "#print dic.values() \n",
      "\n",
      "#get value of given key \n",
      "#print dic['a'] \n",
      "\n",
      "#get value of given key \n",
      "#print dic.get('a')\n",
      "\n",
      "columns = ', '.join(dic.keys())\n",
      "values = ', '.join(dic.values())\n",
      "\n",
      "#? ? ? \n",
      "\n",
      "sql = 'insert into table({}) values({})'.format(columns, values)\n",
      "print sql"
     ],
     "language": "python",
     "metadata": {},
     "outputs": [
      {
       "output_type": "stream",
       "stream": "stdout",
       "text": [
        "insert into table(a, c, b) values(100, 0.98, yes)\n"
       ]
      }
     ],
     "prompt_number": 96
    },
    {
     "cell_type": "code",
     "collapsed": false,
     "input": [
      "#add entry into dictionary \n",
      "dic['d'] = 'new' \n",
      "print dic \n",
      "\n",
      "#add entry into dictionary \n",
      "dic.update({'e':123, 'a':True}) \n",
      "print dic \n",
      "\n",
      "# iter the dictionary \n",
      "for rec in dic: \n",
      "    print rec, dic[rec]\n",
      "\n"
     ],
     "language": "python",
     "metadata": {},
     "outputs": [
      {
       "output_type": "stream",
       "stream": "stdout",
       "text": [
        "{'a': '100', 'c': '0.98', 'b': 'yes', 'd': 'new'}\n",
        "{'a': True, 'c': '0.98', 'b': 'yes', 'e': 123, 'd': 'new'}\n",
        "a True\n",
        "c 0.98\n",
        "b yes\n",
        "e 123\n",
        "d new\n"
       ]
      }
     ],
     "prompt_number": 97
    },
    {
     "cell_type": "code",
     "collapsed": false,
     "input": [
      "def func(x):\n",
      "    return {\n",
      "        'apple': 1,\n",
      "        'bannana': 2,\n",
      "        }.get(x, 0) \n",
      "func('apple')"
     ],
     "language": "python",
     "metadata": {},
     "outputs": [
      {
       "metadata": {},
       "output_type": "pyout",
       "prompt_number": 100,
       "text": [
        "1"
       ]
      }
     ],
     "prompt_number": 100
    },
    {
     "cell_type": "code",
     "collapsed": false,
     "input": [
      "dir(tuple)"
     ],
     "language": "python",
     "metadata": {},
     "outputs": [
      {
       "metadata": {},
       "output_type": "pyout",
       "prompt_number": 103,
       "text": [
        "['__add__',\n",
        " '__class__',\n",
        " '__contains__',\n",
        " '__delattr__',\n",
        " '__doc__',\n",
        " '__eq__',\n",
        " '__format__',\n",
        " '__ge__',\n",
        " '__getattribute__',\n",
        " '__getitem__',\n",
        " '__getnewargs__',\n",
        " '__getslice__',\n",
        " '__gt__',\n",
        " '__hash__',\n",
        " '__init__',\n",
        " '__iter__',\n",
        " '__le__',\n",
        " '__len__',\n",
        " '__lt__',\n",
        " '__mul__',\n",
        " '__ne__',\n",
        " '__new__',\n",
        " '__reduce__',\n",
        " '__reduce_ex__',\n",
        " '__repr__',\n",
        " '__rmul__',\n",
        " '__setattr__',\n",
        " '__sizeof__',\n",
        " '__str__',\n",
        " '__subclasshook__',\n",
        " 'count',\n",
        " 'index']"
       ]
      }
     ],
     "prompt_number": 103
    },
    {
     "cell_type": "code",
     "collapsed": false,
     "input": [
      "a, b = 1,2\n",
      "#print a,b\n",
      "a, b = b,a\n",
      "#print a,b\n",
      "a = {'a':1}\n",
      "del a['a']\n",
      "print a\n",
      "\n",
      "\n",
      "def func():\n",
      "    return 1,2,3\n",
      "x = func()\n",
      "print *x"
     ],
     "language": "python",
     "metadata": {},
     "outputs": [
      {
       "ename": "SyntaxError",
       "evalue": "invalid syntax (<ipython-input-113-9345a1c1512b>, line 13)",
       "output_type": "pyerr",
       "traceback": [
        "\u001b[1;36m  File \u001b[1;32m\"<ipython-input-113-9345a1c1512b>\"\u001b[1;36m, line \u001b[1;32m13\u001b[0m\n\u001b[1;33m    print *x\u001b[0m\n\u001b[1;37m          ^\u001b[0m\n\u001b[1;31mSyntaxError\u001b[0m\u001b[1;31m:\u001b[0m invalid syntax\n"
       ]
      }
     ],
     "prompt_number": 113
    },
    {
     "cell_type": "code",
     "collapsed": false,
     "input": [
      "li = list('abc')\n",
      "cnt = 0\n",
      "for item in li:\n",
      "    print cnt, item\n",
      "    cnt +=1\n",
      "\n",
      "li = list('abc')\n",
      "for idx, item in enumerate(li):\n",
      "    print idx, item\n",
      "\n",
      "li = list('abc')\n",
      "for item in enumerate(li):\n",
      "    print \"{} {}\".format(*item)\n"
     ],
     "language": "python",
     "metadata": {},
     "outputs": [
      {
       "output_type": "stream",
       "stream": "stdout",
       "text": [
        "0 a\n",
        "1 b\n",
        "2 c\n",
        "0 a\n",
        "1 b\n",
        "2 c\n",
        "0 a\n",
        "1 b\n",
        "2 c\n"
       ]
      }
     ],
     "prompt_number": 42
    },
    {
     "cell_type": "code",
     "collapsed": false,
     "input": [
      "class Person():\n",
      "    count = 0 # Static/class variable\n",
      "    def __init__(self, name, city):\n",
      "        self.name = name # Variable for the instance\n",
      "        self.city = city # Variable for the instance\n",
      "        Person.count += 1\n",
      "    def number_of_persons(self):\n",
      "        return Person.count\n",
      "\n"
     ],
     "language": "python",
     "metadata": {},
     "outputs": [],
     "prompt_number": 43
    },
    {
     "cell_type": "code",
     "collapsed": false,
     "input": [
      "class Person():\n",
      "    count = 0 # Static/class variable\n",
      "    def __init__(self, name, city):\n",
      "        self.name = name # Variable for the instance\n",
      "        self.city = city # Variable for the instance\n",
      "        Person.count += 1\n",
      "    def number_of_persons(self):\n",
      "        return Person.count\n",
      "\n"
     ],
     "language": "python",
     "metadata": {},
     "outputs": [],
     "prompt_number": 44
    },
    {
     "cell_type": "code",
     "collapsed": false,
     "input": [
      "class Person():\n",
      "    count = 0 \n",
      "    def __init__(self, **kwargs):\n",
      "        self.name = kwargs.get('name', 'anonymous')\n",
      "        self.city = kwargs.get('city', 'Taipei')\n",
      "        Person.count += 1\n",
      "    def number_of_persons(self):\n",
      "        return Person.count\n",
      "\n",
      "first = Person(name='David')\n",
      "print first.name # David\n",
      "print first.city # Taipei\n"
     ],
     "language": "python",
     "metadata": {},
     "outputs": [
      {
       "output_type": "stream",
       "stream": "stdout",
       "text": [
        "David\n",
        "Taipei\n"
       ]
      }
     ],
     "prompt_number": 45
    },
    {
     "cell_type": "code",
     "collapsed": false,
     "input": [
      "class MyInteger():\n",
      "    def __init__(self, integer):\n",
      "        print \"constructor\"\n",
      "        self.integer = integer\n",
      "    def __add__(self, integer): # Overloaded '+' operator\n",
      "        if self.integer == 2 and integer == 2:\n",
      "            return 5\n",
      "        else:\n",
      "            return self.integer + integer\n",
      "\n",
      "a = MyInteger(3)\n",
      "print a+5\n"
     ],
     "language": "python",
     "metadata": {},
     "outputs": [
      {
       "output_type": "stream",
       "stream": "stdout",
       "text": [
        "constructor\n",
        "8\n"
       ]
      }
     ],
     "prompt_number": 46
    },
    {
     "cell_type": "code",
     "collapsed": false,
     "input": [
      "#Derived Classes\n",
      "class Vehicle():\n",
      "    def my_own(self): return True\n",
      "    \n",
      "class Bicycle(Vehicle):\n",
      "    def __init__(self, color): self.color = color\n",
      "    def has_wheels(self): return True\n",
      "\n",
      "class rent_bike(Bicycle):\n",
      "    def my_own(self): return False\n",
      "Ubike = rent_bike('yellow')\n",
      "print Ubike.my_own()\n",
      "print Ubike.color\n",
      "print Ubike\n",
      "\n",
      "\n"
     ],
     "language": "python",
     "metadata": {},
     "outputs": [
      {
       "output_type": "stream",
       "stream": "stdout",
       "text": [
        "False\n",
        "yellow\n",
        "<__main__.rent_bike instance at 0x90be60c>\n"
       ]
      }
     ],
     "prompt_number": 47
    },
    {
     "cell_type": "code",
     "collapsed": false,
     "input": [
      "class Vehicle():\n",
      "    def my_own(self): return True\n",
      "    \n",
      "class Bicycle(Vehicle):\n",
      "    def __init__(self, color): self.color = color\n",
      "    def has_wheels(self): return True\n",
      "    def __str__(self): return \"%s is %s\"%(self.__class__.__name__,self.color)\n",
      "\n",
      "class rent_bike(Bicycle):\n",
      "    def my_own(self): return False\n",
      "Ubike = rent_bike('yellow')\n",
      "print Ubike\n"
     ],
     "language": "python",
     "metadata": {},
     "outputs": [
      {
       "output_type": "stream",
       "stream": "stdout",
       "text": [
        "rent_bike is yellow\n"
       ]
      }
     ],
     "prompt_number": 48
    },
    {
     "cell_type": "code",
     "collapsed": false,
     "input": [
      "#Writing Hello World Into test.txt\n",
      "fid = open('test.txt', 'w')\n",
      "fid.write('Hello\\nWorld')\n",
      "fid.close()\n"
     ],
     "language": "python",
     "metadata": {},
     "outputs": [],
     "prompt_number": 114
    },
    {
     "cell_type": "code",
     "collapsed": false,
     "input": [
      "#Load Hello World\n",
      "fid = open('test.txt', 'r')\n",
      "for line in fid: # Using file identifier as iterator\n",
      "    print(\"Line: \" + line.strip())\n",
      "fid.close()\n"
     ],
     "language": "python",
     "metadata": {},
     "outputs": [
      {
       "output_type": "stream",
       "stream": "stdout",
       "text": [
        "Line: Hello\n",
        "Line: World\n"
       ]
      }
     ],
     "prompt_number": 115
    },
    {
     "cell_type": "code",
     "collapsed": false,
     "input": [
      "fid = open('test.txt', 'r')\n",
      "s = fid.read() # Read the entire file\n",
      "fid.close()\n",
      "print \"line\",s\n"
     ],
     "language": "python",
     "metadata": {},
     "outputs": [
      {
       "output_type": "stream",
       "stream": "stdout",
       "text": [
        "line Hello\n",
        "World\n"
       ]
      }
     ],
     "prompt_number": 51
    },
    {
     "cell_type": "code",
     "collapsed": false,
     "input": [
      "#Line Counting\n",
      "fid = open('test.txt')\n",
      "k = 0\n",
      "for line in fid:\n",
      "    k = k + 1\n",
      "print(k)\n",
      "fid.close()\n",
      "\n",
      "#\u6216\u7c21\u5beb\u70ba:\n",
      "print len([ line for line in open('test.txt')])\n",
      "\n"
     ],
     "language": "python",
     "metadata": {},
     "outputs": [
      {
       "output_type": "stream",
       "stream": "stdout",
       "text": [
        "2\n",
        "2\n"
       ]
      }
     ],
     "prompt_number": 53
    },
    {
     "cell_type": "code",
     "collapsed": false,
     "input": [
      "f = open(\"comedies.txt\", 'r')\n",
      "cnt = 0\n",
      "#for line in f.readlines():\n",
      "    #print line.strip()\n",
      "f.close()\n"
     ],
     "language": "python",
     "metadata": {},
     "outputs": [
      {
       "output_type": "stream",
       "stream": "stdout",
       "text": [
        "\n",
        "LUCETTA\tO, they love least that let men know their love.\n",
        "\n",
        "JULIA\tI would I knew his mind.\n"
       ]
      }
     ]
    },
    {
     "cell_type": "code",
     "collapsed": false,
     "input": [
      "f = open(\"comedies.txt\", 'r')\n",
      "#cnt = 0\n",
      "for line in f.readlines()[1:5]:\n",
      "    ele = line.strip().split()\n",
      "    print ele\n",
      "f.close()\n"
     ],
     "language": "python",
     "metadata": {},
     "outputs": [
      {
       "output_type": "stream",
       "stream": "stdout",
       "text": [
        "[]\n",
        "[]\n",
        "[\"ALL'S\", 'WELL', 'THAT', 'ENDS', 'WELL']\n",
        "[]\n"
       ]
      }
     ],
     "prompt_number": 116
    },
    {
     "cell_type": "code",
     "collapsed": false,
     "input": [
      "f = open(\"comedies.txt\", 'r')\n",
      "cnt = 0\n",
      "dict = {}\n",
      "for line in f.readlines():\n",
      "    ele = line.strip().split()\n",
      "    for word in ele:\n",
      "        if word in dict:\n",
      "\t    dict[word] = dict[word] + 1\n",
      "\telse:\n",
      "\t    dict[word] = 1\n",
      "f.close()\n",
      "print dict\n"
     ],
     "language": "python",
     "metadata": {},
     "outputs": []
    }
   ],
   "metadata": {}
  }
 ]
}